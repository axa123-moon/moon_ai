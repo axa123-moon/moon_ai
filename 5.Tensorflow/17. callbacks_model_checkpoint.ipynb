{
 "cells": [
  {
   "cell_type": "markdown",
   "metadata": {},
   "source": [
    "# Callbacks & Checkpoint"
   ]
  },
  {
   "cell_type": "code",
   "execution_count": 1,
   "metadata": {},
   "outputs": [],
   "source": [
    "import os\n",
    "from glob import glob\n",
    "from datetime import datetime\n",
    "\n",
    "import numpy as np\n",
    "\n",
    "import tensorflow as tf\n",
    "from tensorflow.keras import layers\n",
    "\n",
    "from tensorflow.keras import datasets \n",
    "\n",
    "import matplotlib.pyplot as plt\n",
    "\n",
    "%matplotlib inline"
   ]
  },
  {
   "cell_type": "markdown",
   "metadata": {},
   "source": [
    "## Hyperparameter Tunning"
   ]
  },
  {
   "cell_type": "code",
   "execution_count": 2,
   "metadata": {},
   "outputs": [],
   "source": [
    "num_epochs = 20\n",
    "batch_size = 32\n",
    "\n",
    "learning_rate = 0.001\n",
    "\n",
    "dropout_rate = 0.5\n",
    "\n",
    "input_shape = (32, 32, 3)\n",
    "num_classes = 10"
   ]
  },
  {
   "cell_type": "markdown",
   "metadata": {},
   "source": [
    "## Build Model"
   ]
  },
  {
   "cell_type": "code",
   "execution_count": 3,
   "metadata": {},
   "outputs": [],
   "source": [
    "inputs = layers.Input(input_shape)\n",
    "\n",
    "net = layers.Conv2D(32, (3, 3), padding='SAME')(inputs)\n",
    "net = layers.Activation('relu')(net)\n",
    "net = layers.Conv2D(32, (3, 3), padding='SAME')(net)\n",
    "net = layers.Activation('relu')(net)\n",
    "net = layers.MaxPooling2D(pool_size=(2, 2))(net)\n",
    "net = layers.Dropout(dropout_rate)(net)\n",
    "\n",
    "net = layers.Conv2D(64, (3, 3), padding='SAME')(net)\n",
    "net = layers.Activation('relu')(net)\n",
    "net = layers.Conv2D(64, (3, 3), padding='SAME')(net)\n",
    "net = layers.Activation('relu')(net)\n",
    "net = layers.MaxPooling2D(pool_size=(2, 2))(net)\n",
    "net = layers.Dropout(dropout_rate)(net)\n",
    "\n",
    "net = layers.Flatten()(net)\n",
    "net = layers.Dense(512)(net)\n",
    "net = layers.Activation('relu')(net)\n",
    "net = layers.Dropout(dropout_rate)(net)\n",
    "net = layers.Dense(num_classes)(net)\n",
    "net = layers.Activation('softmax')(net)\n",
    "\n",
    "model = tf.keras.Model(inputs=inputs, outputs=net, name='Basic_CNN')"
   ]
  },
  {
   "cell_type": "code",
   "execution_count": 4,
   "metadata": {},
   "outputs": [],
   "source": [
    "# Model is the full model w/o custom layers\n",
    "model.compile(optimizer=tf.keras.optimizers.Adam(learning_rate),  # Optimization\n",
    "              loss='sparse_categorical_crossentropy',  # Loss Function \n",
    "              metrics=['accuracy'])  # Metrics / Accuracy"
   ]
  },
  {
   "cell_type": "markdown",
   "metadata": {},
   "source": [
    "# Data Preprocess"
   ]
  },
  {
   "cell_type": "code",
   "execution_count": 5,
   "metadata": {},
   "outputs": [],
   "source": [
    "train_paths = glob('../dataset/cifar/train/*.png')[:1000]\n",
    "test_paths = glob('../dataset/cifar/test/*.png')[:1000]"
   ]
  },
  {
   "cell_type": "code",
   "execution_count": 6,
   "metadata": {},
   "outputs": [
    {
     "data": {
      "text/plain": [
       "1000"
      ]
     },
     "execution_count": 6,
     "metadata": {},
     "output_type": "execute_result"
    }
   ],
   "source": [
    "len(train_paths)"
   ]
  },
  {
   "cell_type": "code",
   "execution_count": 7,
   "metadata": {},
   "outputs": [],
   "source": [
    "def get_class_name(path):\n",
    "    return path.split('_')[-1].replace('.png', '')"
   ]
  },
  {
   "cell_type": "code",
   "execution_count": 8,
   "metadata": {},
   "outputs": [],
   "source": [
    "train_labels = [get_class_name(path) for path in train_paths]\n",
    "class_names = np.unique(train_labels)"
   ]
  },
  {
   "cell_type": "code",
   "execution_count": 9,
   "metadata": {},
   "outputs": [],
   "source": [
    "def get_label(path):\n",
    "    fname = tf.strings.split(path, '_')[-1]\n",
    "    lbl_name = tf.strings.regex_replace(fname, '.png', '')\n",
    "    onehot = tf.cast(lbl_name == class_names, tf.uint8)\n",
    "    return tf.argmax(onehot)  # 이번에는 onehot이 아닌 label 번호로"
   ]
  },
  {
   "cell_type": "code",
   "execution_count": 10,
   "metadata": {},
   "outputs": [],
   "source": [
    "def load_image_label(path):\n",
    "    gfile = tf.io.read_file(path)\n",
    "    image = tf.io.decode_image(gfile)\n",
    "    image = tf.cast(image, tf.float32) / 255.  # rescale\n",
    "    \n",
    "    label = get_label(path)\n",
    "    return image, label"
   ]
  },
  {
   "cell_type": "code",
   "execution_count": 11,
   "metadata": {},
   "outputs": [],
   "source": [
    "def image_preprocess(image, label):\n",
    "    image = tf.image.random_flip_up_down(image)\n",
    "    image = tf.image.random_flip_left_right(image)\n",
    "    return image, label"
   ]
  },
  {
   "cell_type": "code",
   "execution_count": 12,
   "metadata": {},
   "outputs": [],
   "source": [
    "AUTOTUNE = tf.data.experimental.AUTOTUNE"
   ]
  },
  {
   "cell_type": "code",
   "execution_count": 13,
   "metadata": {
    "scrolled": false
   },
   "outputs": [],
   "source": [
    "train_dataset = tf.data.Dataset.from_tensor_slices(train_paths)\n",
    "train_dataset = train_dataset.map(load_image_label, num_parallel_calls=AUTOTUNE)\n",
    "train_dataset = train_dataset.map(image_preprocess, num_parallel_calls=AUTOTUNE)\n",
    "train_dataset = train_dataset.batch(batch_size)\n",
    "train_dataset = train_dataset.shuffle(buffer_size=len(train_paths))\n",
    "train_dataset = train_dataset.repeat()"
   ]
  },
  {
   "cell_type": "code",
   "execution_count": 14,
   "metadata": {},
   "outputs": [],
   "source": [
    "test_dataset = tf.data.Dataset.from_tensor_slices(test_paths)\n",
    "test_dataset = test_dataset.map(load_image_label, num_parallel_calls=AUTOTUNE)\n",
    "test_dataset = test_dataset.batch(batch_size)\n",
    "test_dataset = test_dataset.repeat()"
   ]
  },
  {
   "cell_type": "markdown",
   "metadata": {},
   "source": [
    "# Checkpoint"
   ]
  },
  {
   "cell_type": "code",
   "execution_count": 15,
   "metadata": {},
   "outputs": [],
   "source": [
    "save_path = 'checkpoints'"
   ]
  },
  {
   "cell_type": "code",
   "execution_count": 16,
   "metadata": {},
   "outputs": [],
   "source": [
    "checkpoint = tf.keras.callbacks.ModelCheckpoint(save_path, monitor='val_acc', verbose=1, save_best_only=True, mode='max')"
   ]
  },
  {
   "cell_type": "markdown",
   "metadata": {},
   "source": [
    "## Training"
   ]
  },
  {
   "cell_type": "code",
   "execution_count": 17,
   "metadata": {},
   "outputs": [
    {
     "name": "stdout",
     "output_type": "stream",
     "text": [
      "Epoch 1/20\n",
      "31/31 [==============================] - ETA: 0s - loss: 2.3041 - accuracy: 0.1105WARNING:tensorflow:Can save best model only with val_acc available, skipping.\n",
      "31/31 [==============================] - 8s 255ms/step - loss: 2.3041 - accuracy: 0.1105 - val_loss: 2.2889 - val_accuracy: 0.1512\n",
      "Epoch 2/20\n",
      "31/31 [==============================] - ETA: 0s - loss: 2.2415 - accuracy: 0.1550WARNING:tensorflow:Can save best model only with val_acc available, skipping.\n",
      "31/31 [==============================] - 7s 235ms/step - loss: 2.2415 - accuracy: 0.1550 - val_loss: 2.1835 - val_accuracy: 0.1845\n",
      "Epoch 3/20\n",
      "31/31 [==============================] - ETA: 0s - loss: 2.1309 - accuracy: 0.2045 ETAWARNING:tensorflow:Can save best model only with val_acc available, skipping.\n",
      "31/31 [==============================] - 7s 227ms/step - loss: 2.1309 - accuracy: 0.2045 - val_loss: 2.0823 - val_accuracy: 0.2117\n",
      "Epoch 4/20\n",
      "31/31 [==============================] - ETA: 0s - loss: 2.1202 - accuracy: 0.2056WARNING:tensorflow:Can save best model only with val_acc available, skipping.\n",
      "31/31 [==============================] - 7s 233ms/step - loss: 2.1202 - accuracy: 0.2056 - val_loss: 2.1302 - val_accuracy: 0.2117\n",
      "Epoch 5/20\n",
      "31/31 [==============================] - ETA: 0s - loss: 2.0511 - accuracy: 0.2314WARNING:tensorflow:Can save best model only with val_acc available, skipping.\n",
      "31/31 [==============================] - 7s 240ms/step - loss: 2.0511 - accuracy: 0.2314 - val_loss: 1.9940 - val_accuracy: 0.2742\n",
      "Epoch 6/20\n",
      "31/31 [==============================] - ETA: 0s - loss: 1.9770 - accuracy: 0.2583WARNING:tensorflow:Can save best model only with val_acc available, skipping.\n",
      "31/31 [==============================] - 7s 239ms/step - loss: 1.9770 - accuracy: 0.2583 - val_loss: 1.9234 - val_accuracy: 0.2923\n",
      "Epoch 7/20\n",
      "31/31 [==============================] - ETA: 0s - loss: 1.9394 - accuracy: 0.2758WARNING:tensorflow:Can save best model only with val_acc available, skipping.\n",
      "31/31 [==============================] - 8s 264ms/step - loss: 1.9394 - accuracy: 0.2758 - val_loss: 1.8805 - val_accuracy: 0.2762\n",
      "Epoch 8/20\n",
      "31/31 [==============================] - ETA: 0s - loss: 1.8736 - accuracy: 0.2872WARNING:tensorflow:Can save best model only with val_acc available, skipping.\n",
      "31/31 [==============================] - 9s 300ms/step - loss: 1.8736 - accuracy: 0.2872 - val_loss: 2.2100 - val_accuracy: 0.2329\n",
      "Epoch 9/20\n",
      "31/31 [==============================] - ETA: 0s - loss: 1.8974 - accuracy: 0.3145WARNING:tensorflow:Can save best model only with val_acc available, skipping.\n",
      "31/31 [==============================] - 9s 284ms/step - loss: 1.8974 - accuracy: 0.3145 - val_loss: 1.8094 - val_accuracy: 0.3075\n",
      "Epoch 10/20\n",
      "31/31 [==============================] - ETA: 0s - loss: 1.8136 - accuracy: 0.3305WARNING:tensorflow:Can save best model only with val_acc available, skipping.\n",
      "31/31 [==============================] - 7s 235ms/step - loss: 1.8136 - accuracy: 0.3305 - val_loss: 1.8028 - val_accuracy: 0.3337\n",
      "Epoch 11/20\n",
      "31/31 [==============================] - ETA: 0s - loss: 1.8203 - accuracy: 0.3079WARNING:tensorflow:Can save best model only with val_acc available, skipping.\n",
      "31/31 [==============================] - 7s 236ms/step - loss: 1.8203 - accuracy: 0.3079 - val_loss: 1.8459 - val_accuracy: 0.3296\n",
      "Epoch 12/20\n",
      "31/31 [==============================] - ETA: 0s - loss: 1.7847 - accuracy: 0.3368WARNING:tensorflow:Can save best model only with val_acc available, skipping.\n",
      "31/31 [==============================] - 8s 242ms/step - loss: 1.7847 - accuracy: 0.3368 - val_loss: 1.7719 - val_accuracy: 0.3276\n",
      "Epoch 13/20\n",
      "31/31 [==============================] - ETA: 0s - loss: 1.7231 - accuracy: 0.3367WARNING:tensorflow:Can save best model only with val_acc available, skipping.\n",
      "31/31 [==============================] - 8s 244ms/step - loss: 1.7231 - accuracy: 0.3367 - val_loss: 1.7138 - val_accuracy: 0.3589\n",
      "Epoch 14/20\n",
      "31/31 [==============================] - ETA: 0s - loss: 1.7040 - accuracy: 0.3626 ETA: 1s - loss: 1.6WARNING:tensorflow:Can save best model only with val_acc available, skipping.\n",
      "31/31 [==============================] - 7s 227ms/step - loss: 1.7040 - accuracy: 0.3626 - val_loss: 1.7071 - val_accuracy: 0.3821\n",
      "Epoch 15/20\n",
      "31/31 [==============================] - ETA: 0s - loss: 1.6783 - accuracy: 0.3761WARNING:tensorflow:Can save best model only with val_acc available, skipping.\n",
      "31/31 [==============================] - 7s 228ms/step - loss: 1.6783 - accuracy: 0.3761 - val_loss: 1.7436 - val_accuracy: 0.3558\n",
      "Epoch 16/20\n",
      "31/31 [==============================] - ETA: 0s - loss: 1.7116 - accuracy: 0.3822WARNING:tensorflow:Can save best model only with val_acc available, skipping.\n",
      "31/31 [==============================] - 7s 230ms/step - loss: 1.7116 - accuracy: 0.3822 - val_loss: 1.7809 - val_accuracy: 0.3286\n",
      "Epoch 17/20\n",
      "31/31 [==============================] - ETA: 0s - loss: 1.6426 - accuracy: 0.3841WARNING:tensorflow:Can save best model only with val_acc available, skipping.\n",
      "31/31 [==============================] - 7s 241ms/step - loss: 1.6426 - accuracy: 0.3841 - val_loss: 1.7112 - val_accuracy: 0.3881\n",
      "Epoch 18/20\n",
      "31/31 [==============================] - ETA: 0s - loss: 1.6163 - accuracy: 0.4153WARNING:tensorflow:Can save best model only with val_acc available, skipping.\n",
      "31/31 [==============================] - 7s 239ms/step - loss: 1.6163 - accuracy: 0.4153 - val_loss: 1.6668 - val_accuracy: 0.3841\n",
      "Epoch 19/20\n",
      "31/31 [==============================] - ETA: 0s - loss: 1.5952 - accuracy: 0.4100WARNING:tensorflow:Can save best model only with val_acc available, skipping.\n",
      "31/31 [==============================] - 7s 233ms/step - loss: 1.5952 - accuracy: 0.4100 - val_loss: 1.6357 - val_accuracy: 0.4143\n",
      "Epoch 20/20\n",
      "31/31 [==============================] - ETA: 0s - loss: 1.5651 - accuracy: 0.4385 ETA: 1s - loss: 1.5983 - WARNING:tensorflow:Can save best model only with val_acc available, skipping.\n",
      "31/31 [==============================] - 7s 233ms/step - loss: 1.5651 - accuracy: 0.4385 - val_loss: 1.6826 - val_accuracy: 0.3750\n"
     ]
    },
    {
     "data": {
      "text/plain": [
       "<tensorflow.python.keras.callbacks.History at 0x29af497e5e0>"
      ]
     },
     "execution_count": 17,
     "metadata": {},
     "output_type": "execute_result"
    }
   ],
   "source": [
    "steps_per_epoch = len(train_paths) // batch_size\n",
    "validation_steps = len(test_paths) // batch_size\n",
    "\n",
    "model.fit(\n",
    "    train_dataset,\n",
    "    steps_per_epoch=steps_per_epoch,\n",
    "    validation_data=test_dataset,\n",
    "    validation_steps=validation_steps,\n",
    "    epochs=num_epochs,\n",
    "    callbacks=[checkpoint]\n",
    ")"
   ]
  },
  {
   "cell_type": "markdown",
   "metadata": {},
   "source": [
    "https://www.tensorflow.org/tensorboard/r2/image_summaries#setup"
   ]
  }
 ],
 "metadata": {
  "kernelspec": {
   "display_name": "Python 3",
   "language": "python",
   "name": "python3"
  },
  "language_info": {
   "codemirror_mode": {
    "name": "ipython",
    "version": 3
   },
   "file_extension": ".py",
   "mimetype": "text/x-python",
   "name": "python",
   "nbconvert_exporter": "python",
   "pygments_lexer": "ipython3",
   "version": "3.8.3"
  }
 },
 "nbformat": 4,
 "nbformat_minor": 2
}
