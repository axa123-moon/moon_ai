{
 "cells": [
  {
   "cell_type": "markdown",
   "metadata": {},
   "source": [
    "# History"
   ]
  },
  {
   "cell_type": "code",
   "execution_count": 1,
   "metadata": {},
   "outputs": [],
   "source": [
    "import os\n",
    "from glob import glob\n",
    "from datetime import datetime\n",
    "\n",
    "import numpy as np\n",
    "\n",
    "import tensorflow as tf\n",
    "from tensorflow.keras import layers\n",
    "\n",
    "from tensorflow.keras import datasets \n",
    "\n",
    "import matplotlib.pyplot as plt\n",
    "\n",
    "%matplotlib inline"
   ]
  },
  {
   "cell_type": "markdown",
   "metadata": {},
   "source": [
    "## Hyperparameter Tunning"
   ]
  },
  {
   "cell_type": "code",
   "execution_count": 2,
   "metadata": {},
   "outputs": [],
   "source": [
    "num_epochs = 50\n",
    "batch_size = 32\n",
    "\n",
    "learning_rate = 0.001\n",
    "\n",
    "dropout_rate = 0.5\n",
    "\n",
    "input_shape = (32, 32, 3)\n",
    "num_classes = 10"
   ]
  },
  {
   "cell_type": "markdown",
   "metadata": {},
   "source": [
    "## Build Model"
   ]
  },
  {
   "cell_type": "code",
   "execution_count": 3,
   "metadata": {},
   "outputs": [],
   "source": [
    "inputs = layers.Input(input_shape)\n",
    "\n",
    "net = layers.Conv2D(32, (3, 3), padding='SAME')(inputs)\n",
    "net = layers.Activation('relu')(net)\n",
    "net = layers.Conv2D(32, (3, 3), padding='SAME')(net)\n",
    "net = layers.Activation('relu')(net)\n",
    "net = layers.MaxPooling2D(pool_size=(2, 2))(net)\n",
    "net = layers.Dropout(dropout_rate)(net)\n",
    "\n",
    "net = layers.Conv2D(64, (3, 3), padding='SAME')(net)\n",
    "net = layers.Activation('relu')(net)\n",
    "net = layers.Conv2D(64, (3, 3), padding='SAME')(net)\n",
    "net = layers.Activation('relu')(net)\n",
    "net = layers.MaxPooling2D(pool_size=(2, 2))(net)\n",
    "net = layers.Dropout(dropout_rate)(net)\n",
    "\n",
    "net = layers.Flatten()(net)\n",
    "net = layers.Dense(512)(net)\n",
    "net = layers.Activation('relu')(net)\n",
    "net = layers.Dropout(dropout_rate)(net)\n",
    "net = layers.Dense(num_classes)(net)\n",
    "net = layers.Activation('softmax')(net)\n",
    "\n",
    "model = tf.keras.Model(inputs=inputs, outputs=net, name='Basic_CNN')"
   ]
  },
  {
   "cell_type": "code",
   "execution_count": 4,
   "metadata": {},
   "outputs": [],
   "source": [
    "# Model is the full model w/o custom layers\n",
    "model.compile(optimizer=tf.keras.optimizers.Adam(learning_rate),  # Optimization\n",
    "              loss='sparse_categorical_crossentropy',  # Loss Function \n",
    "              metrics=['accuracy'])  # Metrics / Accuracy"
   ]
  },
  {
   "cell_type": "markdown",
   "metadata": {},
   "source": [
    "# Data Preprocess"
   ]
  },
  {
   "cell_type": "code",
   "execution_count": 5,
   "metadata": {},
   "outputs": [],
   "source": [
    "train_paths = glob('../dataset/cifar/train/*.png')[:1000]\n",
    "test_paths = glob('../dataset/cifar/test/*.png')[:1000]"
   ]
  },
  {
   "cell_type": "code",
   "execution_count": 6,
   "metadata": {},
   "outputs": [],
   "source": [
    "def get_class_name(path):\n",
    "    return path.split('_')[-1].replace('.png', '')"
   ]
  },
  {
   "cell_type": "code",
   "execution_count": 7,
   "metadata": {},
   "outputs": [],
   "source": [
    "train_labels = [get_class_name(path) for path in train_paths]\n",
    "class_names = np.unique(train_labels)"
   ]
  },
  {
   "cell_type": "code",
   "execution_count": 8,
   "metadata": {},
   "outputs": [],
   "source": [
    "def get_label(path):\n",
    "    fname = tf.strings.split(path, '_')[-1]\n",
    "    lbl_name = tf.strings.regex_replace(fname, '.png', '')\n",
    "    onehot = tf.cast(lbl_name == class_names, tf.uint8)\n",
    "    return tf.argmax(onehot)  # 이번에는 onehot이 아닌 label 번호로"
   ]
  },
  {
   "cell_type": "code",
   "execution_count": 9,
   "metadata": {},
   "outputs": [],
   "source": [
    "def load_image_label(path):\n",
    "    gfile = tf.io.read_file(path)\n",
    "    image = tf.io.decode_image(gfile)\n",
    "    image = tf.cast(image, tf.float32) / 255.  # rescale\n",
    "    \n",
    "    label = get_label(path)\n",
    "    return image, label"
   ]
  },
  {
   "cell_type": "code",
   "execution_count": 10,
   "metadata": {},
   "outputs": [],
   "source": [
    "def image_preprocess(image, label):\n",
    "    image = tf.image.random_flip_up_down(image)\n",
    "    image = tf.image.random_flip_left_right(image)\n",
    "    return image, label"
   ]
  },
  {
   "cell_type": "code",
   "execution_count": 11,
   "metadata": {},
   "outputs": [],
   "source": [
    "AUTOTUNE = tf.data.experimental.AUTOTUNE"
   ]
  },
  {
   "cell_type": "code",
   "execution_count": 12,
   "metadata": {
    "scrolled": false
   },
   "outputs": [],
   "source": [
    "train_dataset = tf.data.Dataset.from_tensor_slices(train_paths)\n",
    "train_dataset = train_dataset.map(load_image_label, num_parallel_calls=AUTOTUNE)\n",
    "train_dataset = train_dataset.map(image_preprocess, num_parallel_calls=AUTOTUNE)\n",
    "train_dataset = train_dataset.batch(batch_size)\n",
    "train_dataset = train_dataset.shuffle(buffer_size=len(train_paths))\n",
    "train_dataset = train_dataset.repeat()"
   ]
  },
  {
   "cell_type": "code",
   "execution_count": 13,
   "metadata": {},
   "outputs": [],
   "source": [
    "test_dataset = tf.data.Dataset.from_tensor_slices(test_paths)\n",
    "test_dataset = test_dataset.map(load_image_label, num_parallel_calls=AUTOTUNE)\n",
    "test_dataset = test_dataset.batch(batch_size)\n",
    "test_dataset = test_dataset.repeat()"
   ]
  },
  {
   "cell_type": "markdown",
   "metadata": {},
   "source": [
    "## Training"
   ]
  },
  {
   "cell_type": "markdown",
   "metadata": {},
   "source": [
    "http://localhost:6006"
   ]
  },
  {
   "cell_type": "code",
   "execution_count": 14,
   "metadata": {
    "scrolled": false
   },
   "outputs": [
    {
     "name": "stdout",
     "output_type": "stream",
     "text": [
      "WARNING:tensorflow:From <ipython-input-14-ace97a0ab232>:4: Model.fit_generator (from tensorflow.python.keras.engine.training) is deprecated and will be removed in a future version.\n",
      "Instructions for updating:\n",
      "Please use Model.fit, which supports generators.\n",
      "Epoch 1/50\n",
      "31/31 [==============================] - 8s 273ms/step - loss: 2.3022 - accuracy: 0.1157 - val_loss: 2.2690 - val_accuracy: 0.1290\n",
      "Epoch 2/50\n",
      "31/31 [==============================] - 8s 251ms/step - loss: 2.2415 - accuracy: 0.1632 - val_loss: 2.2504 - val_accuracy: 0.1694\n",
      "Epoch 3/50\n",
      "31/31 [==============================] - 8s 259ms/step - loss: 2.1562 - accuracy: 0.2097 - val_loss: 2.0685 - val_accuracy: 0.2238\n",
      "Epoch 4/50\n",
      "31/31 [==============================] - 8s 257ms/step - loss: 2.0950 - accuracy: 0.2252 - val_loss: 2.0661 - val_accuracy: 0.2540\n",
      "Epoch 5/50\n",
      "31/31 [==============================] - 8s 255ms/step - loss: 1.9972 - accuracy: 0.2231 - val_loss: 2.0008 - val_accuracy: 0.2530\n",
      "Epoch 6/50\n",
      "31/31 [==============================] - 8s 256ms/step - loss: 1.9788 - accuracy: 0.2355 - val_loss: 1.9342 - val_accuracy: 0.2843\n",
      "Epoch 7/50\n",
      "31/31 [==============================] - 8s 260ms/step - loss: 1.8945 - accuracy: 0.2782 - val_loss: 1.8551 - val_accuracy: 0.3004\n",
      "Epoch 8/50\n",
      "31/31 [==============================] - 8s 256ms/step - loss: 1.8427 - accuracy: 0.3083 - val_loss: 1.8269 - val_accuracy: 0.3357\n",
      "Epoch 9/50\n",
      "31/31 [==============================] - 8s 253ms/step - loss: 1.8551 - accuracy: 0.3120 - val_loss: 1.8227 - val_accuracy: 0.3085\n",
      "Epoch 10/50\n",
      "31/31 [==============================] - 8s 260ms/step - loss: 1.7416 - accuracy: 0.3543 - val_loss: 1.8281 - val_accuracy: 0.3327\n",
      "Epoch 11/50\n",
      "31/31 [==============================] - 8s 259ms/step - loss: 1.7454 - accuracy: 0.3523 - val_loss: 1.8221 - val_accuracy: 0.3296\n",
      "Epoch 12/50\n",
      "31/31 [==============================] - 8s 261ms/step - loss: 1.7582 - accuracy: 0.3548 - val_loss: 1.8086 - val_accuracy: 0.3256\n",
      "Epoch 13/50\n",
      "31/31 [==============================] - 8s 270ms/step - loss: 1.7510 - accuracy: 0.3182 - val_loss: 1.7777 - val_accuracy: 0.3558\n",
      "Epoch 14/50\n",
      "31/31 [==============================] - 8s 253ms/step - loss: 1.6294 - accuracy: 0.3750 - val_loss: 1.7672 - val_accuracy: 0.3498\n",
      "Epoch 15/50\n",
      "31/31 [==============================] - 8s 260ms/step - loss: 1.6200 - accuracy: 0.4062 - val_loss: 1.7332 - val_accuracy: 0.3639\n",
      "Epoch 16/50\n",
      "31/31 [==============================] - 8s 263ms/step - loss: 1.6083 - accuracy: 0.4100 - val_loss: 1.7361 - val_accuracy: 0.3619\n",
      "Epoch 17/50\n",
      "31/31 [==============================] - 9s 277ms/step - loss: 1.6224 - accuracy: 0.4083 - val_loss: 1.7217 - val_accuracy: 0.3780\n",
      "Epoch 18/50\n",
      "31/31 [==============================] - 8s 269ms/step - loss: 1.5601 - accuracy: 0.4421 - val_loss: 1.6988 - val_accuracy: 0.3831\n",
      "Epoch 19/50\n",
      "31/31 [==============================] - 8s 268ms/step - loss: 1.5031 - accuracy: 0.4428 - val_loss: 1.6918 - val_accuracy: 0.3851\n",
      "Epoch 20/50\n",
      "31/31 [==============================] - 8s 265ms/step - loss: 1.5094 - accuracy: 0.4577 - val_loss: 1.7670 - val_accuracy: 0.3599\n",
      "Epoch 21/50\n",
      "31/31 [==============================] - 9s 284ms/step - loss: 1.4508 - accuracy: 0.4442 - val_loss: 1.6461 - val_accuracy: 0.3942\n",
      "Epoch 22/50\n",
      "31/31 [==============================] - 8s 258ms/step - loss: 1.4875 - accuracy: 0.4463 - val_loss: 1.6750 - val_accuracy: 0.3962\n",
      "Epoch 23/50\n",
      "31/31 [==============================] - 8s 259ms/step - loss: 1.3938 - accuracy: 0.4742 - val_loss: 1.6923 - val_accuracy: 0.3992\n",
      "Epoch 24/50\n",
      "31/31 [==============================] - 8s 255ms/step - loss: 1.4703 - accuracy: 0.4746 - val_loss: 1.6597 - val_accuracy: 0.3851\n",
      "Epoch 25/50\n",
      "31/31 [==============================] - 8s 260ms/step - loss: 1.4375 - accuracy: 0.4690 - val_loss: 1.6083 - val_accuracy: 0.4254\n",
      "Epoch 26/50\n",
      "31/31 [==============================] - 8s 264ms/step - loss: 1.3499 - accuracy: 0.4970 - val_loss: 1.5748 - val_accuracy: 0.4163\n",
      "Epoch 27/50\n",
      "31/31 [==============================] - 8s 263ms/step - loss: 1.3339 - accuracy: 0.5269 - val_loss: 1.6358 - val_accuracy: 0.4204\n",
      "Epoch 28/50\n",
      "31/31 [==============================] - 8s 270ms/step - loss: 1.3438 - accuracy: 0.5155 - val_loss: 1.6451 - val_accuracy: 0.4274\n",
      "Epoch 29/50\n",
      "31/31 [==============================] - 8s 267ms/step - loss: 1.3302 - accuracy: 0.5207 - val_loss: 1.6517 - val_accuracy: 0.4062\n",
      "Epoch 30/50\n",
      "31/31 [==============================] - 8s 265ms/step - loss: 1.3076 - accuracy: 0.5103 - val_loss: 1.6834 - val_accuracy: 0.4093\n",
      "Epoch 31/50\n",
      "31/31 [==============================] - 8s 269ms/step - loss: 1.2558 - accuracy: 0.5145 - val_loss: 1.6360 - val_accuracy: 0.4304\n",
      "Epoch 32/50\n",
      "31/31 [==============================] - 8s 261ms/step - loss: 1.2512 - accuracy: 0.5558 - val_loss: 1.6378 - val_accuracy: 0.4315\n",
      "Epoch 33/50\n",
      "31/31 [==============================] - 8s 266ms/step - loss: 1.2235 - accuracy: 0.5444 - val_loss: 1.6892 - val_accuracy: 0.4123\n",
      "Epoch 34/50\n",
      "31/31 [==============================] - 8s 263ms/step - loss: 1.1756 - accuracy: 0.5702 - val_loss: 1.6492 - val_accuracy: 0.4224\n",
      "Epoch 35/50\n",
      "31/31 [==============================] - 8s 269ms/step - loss: 1.1465 - accuracy: 0.5868 - val_loss: 1.6096 - val_accuracy: 0.4335\n",
      "Epoch 36/50\n",
      "31/31 [==============================] - 9s 283ms/step - loss: 1.1766 - accuracy: 0.5878 - val_loss: 1.5895 - val_accuracy: 0.4506\n",
      "Epoch 37/50\n",
      "31/31 [==============================] - 8s 262ms/step - loss: 1.1158 - accuracy: 0.5909 - val_loss: 1.6874 - val_accuracy: 0.4466\n",
      "Epoch 38/50\n",
      "31/31 [==============================] - 8s 262ms/step - loss: 1.0973 - accuracy: 0.6064 - val_loss: 1.6266 - val_accuracy: 0.4476\n",
      "Epoch 39/50\n",
      "31/31 [==============================] - 8s 266ms/step - loss: 1.0932 - accuracy: 0.6147 - val_loss: 1.7536 - val_accuracy: 0.4294\n",
      "Epoch 40/50\n",
      "31/31 [==============================] - 8s 263ms/step - loss: 1.1087 - accuracy: 0.6074 - val_loss: 1.7256 - val_accuracy: 0.4506\n",
      "Epoch 41/50\n",
      "31/31 [==============================] - 8s 259ms/step - loss: 1.0606 - accuracy: 0.6260 - val_loss: 1.7056 - val_accuracy: 0.4415\n",
      "Epoch 42/50\n",
      "31/31 [==============================] - 8s 266ms/step - loss: 1.0793 - accuracy: 0.6178 - val_loss: 1.6228 - val_accuracy: 0.4214\n",
      "Epoch 43/50\n",
      "31/31 [==============================] - 8s 266ms/step - loss: 0.9902 - accuracy: 0.6446 - val_loss: 1.6763 - val_accuracy: 0.4567\n",
      "Epoch 44/50\n",
      "31/31 [==============================] - 8s 274ms/step - loss: 0.9982 - accuracy: 0.6331 - val_loss: 1.7286 - val_accuracy: 0.4244\n",
      "Epoch 45/50\n",
      "31/31 [==============================] - 9s 275ms/step - loss: 0.9715 - accuracy: 0.6508 - val_loss: 1.6848 - val_accuracy: 0.4456\n",
      "Epoch 46/50\n",
      "31/31 [==============================] - 8s 268ms/step - loss: 1.0376 - accuracy: 0.6333 - val_loss: 1.6750 - val_accuracy: 0.4466\n",
      "Epoch 47/50\n",
      "31/31 [==============================] - 8s 271ms/step - loss: 0.9945 - accuracy: 0.6451 - val_loss: 1.7158 - val_accuracy: 0.4526\n",
      "Epoch 48/50\n",
      "31/31 [==============================] - 8s 274ms/step - loss: 0.9036 - accuracy: 0.6744 - val_loss: 1.7585 - val_accuracy: 0.4627\n",
      "Epoch 49/50\n",
      "31/31 [==============================] - 8s 270ms/step - loss: 0.9397 - accuracy: 0.6706 - val_loss: 1.6897 - val_accuracy: 0.4647\n",
      "Epoch 50/50\n",
      "31/31 [==============================] - 9s 275ms/step - loss: 0.8641 - accuracy: 0.6875 - val_loss: 1.7797 - val_accuracy: 0.4597\n"
     ]
    }
   ],
   "source": [
    "steps_per_epoch = len(train_paths) // batch_size\n",
    "validation_steps = len(test_paths) // batch_size\n",
    "\n",
    "history = model.fit(\n",
    "    train_dataset,\n",
    "    steps_per_epoch=steps_per_epoch,\n",
    "    validation_data=test_dataset,\n",
    "    validation_steps=validation_steps,\n",
    "    epochs=num_epochs\n",
    ")"
   ]
  },
  {
   "cell_type": "markdown",
   "metadata": {},
   "source": [
    "# History 들여다 보기 "
   ]
  },
  {
   "cell_type": "code",
   "execution_count": 15,
   "metadata": {},
   "outputs": [
    {
     "data": {
      "text/plain": [
       "dict_keys(['loss', 'accuracy', 'val_loss', 'val_accuracy'])"
      ]
     },
     "execution_count": 15,
     "metadata": {},
     "output_type": "execute_result"
    }
   ],
   "source": [
    "history.history.keys()"
   ]
  },
  {
   "cell_type": "code",
   "execution_count": 16,
   "metadata": {},
   "outputs": [
    {
     "data": {
      "text/plain": [
       "{'verbose': 1, 'epochs': 50, 'steps': 31}"
      ]
     },
     "execution_count": 16,
     "metadata": {},
     "output_type": "execute_result"
    }
   ],
   "source": [
    "history.params"
   ]
  },
  {
   "cell_type": "code",
   "execution_count": 19,
   "metadata": {},
   "outputs": [
    {
     "data": {
      "text/plain": [
       "<tensorflow.python.keras.engine.functional.Functional at 0x2652138de20>"
      ]
     },
     "execution_count": 19,
     "metadata": {},
     "output_type": "execute_result"
    }
   ],
   "source": [
    "history.model"
   ]
  },
  {
   "cell_type": "code",
   "execution_count": 21,
   "metadata": {},
   "outputs": [],
   "source": [
    "new_model = history.model"
   ]
  },
  {
   "cell_type": "code",
   "execution_count": 22,
   "metadata": {},
   "outputs": [
    {
     "data": {
      "text/plain": [
       "[0.11570248007774353,\n",
       " 0.16322314739227295,\n",
       " 0.2097107470035553,\n",
       " 0.22520661354064941,\n",
       " 0.22314049303531647,\n",
       " 0.23553718626499176,\n",
       " 0.2782258093357086,\n",
       " 0.3082627058029175,\n",
       " 0.31198346614837646,\n",
       " 0.3543388545513153,\n",
       " 0.35227271914482117,\n",
       " 0.35483869910240173,\n",
       " 0.3181818127632141,\n",
       " 0.375,\n",
       " 0.40625,\n",
       " 0.409957617521286,\n",
       " 0.4082661271095276,\n",
       " 0.44214877486228943,\n",
       " 0.44279661774635315,\n",
       " 0.45766130089759827,\n",
       " 0.4442148804664612,\n",
       " 0.44628098607063293,\n",
       " 0.47417354583740234,\n",
       " 0.47457626461982727,\n",
       " 0.46900826692581177,\n",
       " 0.4969758093357086,\n",
       " 0.5268595218658447,\n",
       " 0.5154958963394165,\n",
       " 0.5206611752510071,\n",
       " 0.5103305578231812,\n",
       " 0.5144628286361694,\n",
       " 0.5557851195335388,\n",
       " 0.5444214940071106,\n",
       " 0.5702479481697083,\n",
       " 0.586776852607727,\n",
       " 0.5878099203109741,\n",
       " 0.5909090638160706,\n",
       " 0.6064049601554871,\n",
       " 0.6146694421768188,\n",
       " 0.6074380278587341,\n",
       " 0.6260330677032471,\n",
       " 0.6177685856819153,\n",
       " 0.64462810754776,\n",
       " 0.6330645084381104,\n",
       " 0.6508264541625977,\n",
       " 0.6332644820213318,\n",
       " 0.6451271176338196,\n",
       " 0.6743951439857483,\n",
       " 0.6705508232116699,\n",
       " 0.6875]"
      ]
     },
     "execution_count": 22,
     "metadata": {},
     "output_type": "execute_result"
    }
   ],
   "source": [
    "history.history['accuracy']"
   ]
  },
  {
   "cell_type": "code",
   "execution_count": 23,
   "metadata": {},
   "outputs": [
    {
     "data": {
      "image/png": "[encoded data removed]",
      "text/plain": [
       "<Figure size 432x288 with 1 Axes>"
      ]
     },
     "metadata": {
      "needs_background": "light"
     },
     "output_type": "display_data"
    }
   ],
   "source": [
    "plt.plot(history.history['accuracy'])\n",
    "plt.plot(history.history['val_accuracy'])\n",
    "plt.title('Model Accuracy')\n",
    "plt.ylabel('accuracy')\n",
    "plt.xlabel('epoch')\n",
    "plt.legend(['train','validation'])\n",
    "plt.show()"
   ]
  },
  {
   "cell_type": "code",
   "execution_count": 24,
   "metadata": {},
   "outputs": [
    {
     "data": {
      "image/png": "[encoded data removed]",
      "text/plain": [
       "<Figure size 432x288 with 1 Axes>"
      ]
     },
     "metadata": {
      "needs_background": "light"
     },
     "output_type": "display_data"
    }
   ],
   "source": [
    "plt.plot(history.history['loss'])\n",
    "plt.plot(history.history['val_loss'])\n",
    "plt.title('Model Loss')\n",
    "plt.ylabel('loss')\n",
    "plt.xlabel('epoch')\n",
    "plt.legend(['train','validation'])\n",
    "plt.show()"
   ]
  },
  {
   "cell_type": "code",
   "execution_count": null,
   "metadata": {},
   "outputs": [],
   "source": []
  }
 ],
 "metadata": {
  "kernelspec": {
   "display_name": "Python 3",
   "language": "python",
   "name": "python3"
  },
  "language_info": {
   "codemirror_mode": {
    "name": "ipython",
    "version": 3
   },
   "file_extension": ".py",
   "mimetype": "text/x-python",
   "name": "python",
   "nbconvert_exporter": "python",
   "pygments_lexer": "ipython3",
   "version": "3.8.3"
  }
 },
 "nbformat": 4,
 "nbformat_minor": 2
}
