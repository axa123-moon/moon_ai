{
 "cells": [
  {
   "cell_type": "markdown",
   "metadata": {},
   "source": [
    "# TensorFlow 2.0"
   ]
  },
  {
   "cell_type": "code",
   "execution_count": 1,
   "metadata": {},
   "outputs": [],
   "source": [
    "import os\n",
    "from glob import glob\n",
    "from datetime import datetime\n",
    "\n",
    "import numpy as np\n",
    "\n",
    "import tensorflow as tf\n",
    "from tensorflow.keras import layers\n",
    "\n",
    "from tensorflow.keras import datasets \n",
    "\n",
    "import matplotlib.pyplot as plt\n",
    "\n",
    "%matplotlib inline"
   ]
  },
  {
   "cell_type": "markdown",
   "metadata": {},
   "source": [
    "## Hyperparameter Tunning"
   ]
  },
  {
   "cell_type": "code",
   "execution_count": 2,
   "metadata": {},
   "outputs": [],
   "source": [
    "num_epochs = 20\n",
    "batch_size = 32\n",
    "\n",
    "learning_rate = 0.001\n",
    "\n",
    "dropout_rate = 0.5\n",
    "\n",
    "input_shape = (32, 32, 3)\n",
    "num_classes = 10"
   ]
  },
  {
   "cell_type": "markdown",
   "metadata": {},
   "source": [
    "## Build Model"
   ]
  },
  {
   "cell_type": "code",
   "execution_count": 3,
   "metadata": {},
   "outputs": [],
   "source": [
    "inputs = layers.Input(input_shape)\n",
    "\n",
    "net = layers.Conv2D(32, (3, 3), padding='SAME')(inputs)\n",
    "net = layers.Activation('relu')(net)\n",
    "net = layers.Conv2D(32, (3, 3), padding='SAME')(net)\n",
    "net = layers.Activation('relu')(net)\n",
    "net = layers.MaxPooling2D(pool_size=(2, 2))(net)\n",
    "net = layers.Dropout(dropout_rate)(net)\n",
    "\n",
    "net = layers.Conv2D(64, (3, 3), padding='SAME')(net)\n",
    "net = layers.Activation('relu')(net)\n",
    "net = layers.Conv2D(64, (3, 3), padding='SAME')(net)\n",
    "net = layers.Activation('relu')(net)\n",
    "net = layers.MaxPooling2D(pool_size=(2, 2))(net)\n",
    "net = layers.Dropout(dropout_rate)(net)\n",
    "\n",
    "net = layers.Flatten()(net)\n",
    "net = layers.Dense(512)(net)\n",
    "net = layers.Activation('relu')(net)\n",
    "net = layers.Dropout(dropout_rate)(net)\n",
    "net = layers.Dense(num_classes)(net)\n",
    "net = layers.Activation('softmax')(net)\n",
    "\n",
    "model = tf.keras.Model(inputs=inputs, outputs=net, name='Basic_CNN')"
   ]
  },
  {
   "cell_type": "code",
   "execution_count": 4,
   "metadata": {},
   "outputs": [],
   "source": [
    "# Model is the full model w/o custom layers\n",
    "model.compile(optimizer=tf.keras.optimizers.Adam(learning_rate),  # Optimization\n",
    "              loss='sparse_categorical_crossentropy',  # Loss Function \n",
    "              metrics=['accuracy'])  # Metrics / Accuracy"
   ]
  },
  {
   "cell_type": "markdown",
   "metadata": {},
   "source": [
    "# Data Preprocess"
   ]
  },
  {
   "cell_type": "code",
   "execution_count": 5,
   "metadata": {},
   "outputs": [],
   "source": [
    "train_paths = glob('../dataset/cifar/train/*.png')[:1000]\n",
    "test_paths = glob('../dataset/cifar/test/*.png')[:1000]"
   ]
  },
  {
   "cell_type": "code",
   "execution_count": 6,
   "metadata": {},
   "outputs": [],
   "source": [
    "def get_class_name(path):\n",
    "    return path.split('_')[-1].replace('.png', '')"
   ]
  },
  {
   "cell_type": "code",
   "execution_count": 7,
   "metadata": {},
   "outputs": [],
   "source": [
    "train_labels = [get_class_name(path) for path in train_paths]\n",
    "class_names = np.unique(train_labels)"
   ]
  },
  {
   "cell_type": "code",
   "execution_count": 8,
   "metadata": {},
   "outputs": [],
   "source": [
    "def get_label(path):\n",
    "    fname = tf.strings.split(path, '_')[-1]\n",
    "    lbl_name = tf.strings.regex_replace(fname, '.png', '')\n",
    "    onehot = tf.cast(lbl_name == class_names, tf.uint8)\n",
    "    return tf.argmax(onehot)  # 이번에는 onehot이 아닌 label 번호로"
   ]
  },
  {
   "cell_type": "code",
   "execution_count": 9,
   "metadata": {},
   "outputs": [],
   "source": [
    "def load_image_label(path):\n",
    "    gfile = tf.io.read_file(path)\n",
    "    image = tf.io.decode_image(gfile)\n",
    "    image = tf.cast(image, tf.float32) / 255.  # rescale\n",
    "    \n",
    "    label = get_label(path)\n",
    "    return image, label"
   ]
  },
  {
   "cell_type": "code",
   "execution_count": 10,
   "metadata": {},
   "outputs": [],
   "source": [
    "def image_preprocess(image, label):\n",
    "    image = tf.image.random_flip_up_down(image)\n",
    "    image = tf.image.random_flip_left_right(image)\n",
    "    return image, label"
   ]
  },
  {
   "cell_type": "code",
   "execution_count": 11,
   "metadata": {},
   "outputs": [],
   "source": [
    "AUTOTUNE = tf.data.experimental.AUTOTUNE"
   ]
  },
  {
   "cell_type": "code",
   "execution_count": 12,
   "metadata": {
    "scrolled": false
   },
   "outputs": [],
   "source": [
    "train_dataset = tf.data.Dataset.from_tensor_slices(train_paths)\n",
    "train_dataset = train_dataset.map(load_image_label, num_parallel_calls=AUTOTUNE)\n",
    "train_dataset = train_dataset.map(image_preprocess, num_parallel_calls=AUTOTUNE)\n",
    "train_dataset = train_dataset.batch(batch_size)\n",
    "train_dataset = train_dataset.shuffle(buffer_size=len(train_paths))\n",
    "train_dataset = train_dataset.repeat()"
   ]
  },
  {
   "cell_type": "code",
   "execution_count": 13,
   "metadata": {},
   "outputs": [],
   "source": [
    "test_dataset = tf.data.Dataset.from_tensor_slices(test_paths)\n",
    "test_dataset = test_dataset.map(load_image_label, num_parallel_calls=AUTOTUNE)\n",
    "test_dataset = test_dataset.batch(batch_size)\n",
    "test_dataset = test_dataset.repeat()"
   ]
  },
  {
   "cell_type": "markdown",
   "metadata": {},
   "source": [
    "# Learning Rate Scheduler"
   ]
  },
  {
   "cell_type": "code",
   "execution_count": 14,
   "metadata": {},
   "outputs": [],
   "source": [
    "import math"
   ]
  },
  {
   "cell_type": "code",
   "execution_count": 15,
   "metadata": {},
   "outputs": [],
   "source": [
    "def scheduler(epoch):\n",
    "    if epoch < 10:\n",
    "        return 0.001\n",
    "    else:\n",
    "        return 0.001 * math.exp(0.1 * (10 - epoch))\n",
    "\n",
    "learning_rate_scheduler = tf.keras.callbacks.LearningRateScheduler(scheduler)"
   ]
  },
  {
   "cell_type": "markdown",
   "metadata": {},
   "source": [
    "## Training"
   ]
  },
  {
   "cell_type": "markdown",
   "metadata": {},
   "source": [
    "http://localhost:6006"
   ]
  },
  {
   "cell_type": "code",
   "execution_count": 16,
   "metadata": {},
   "outputs": [
    {
     "name": "stdout",
     "output_type": "stream",
     "text": [
      "WARNING:tensorflow:From <ipython-input-16-98963009f610>:4: Model.fit_generator (from tensorflow.python.keras.engine.training) is deprecated and will be removed in a future version.\n",
      "Instructions for updating:\n",
      "Please use Model.fit, which supports generators.\n",
      "Epoch 1/20\n",
      "31/31 [==============================] - 8s 268ms/step - loss: 2.3089 - accuracy: 0.1054 - val_loss: 2.3003 - val_accuracy: 0.0897\n",
      "Epoch 2/20\n",
      "31/31 [==============================] - 8s 244ms/step - loss: 2.2915 - accuracy: 0.1074 - val_loss: 2.3136 - val_accuracy: 0.1069\n",
      "Epoch 3/20\n",
      "31/31 [==============================] - 7s 236ms/step - loss: 2.2881 - accuracy: 0.1281 - val_loss: 2.3021 - val_accuracy: 0.0948\n",
      "Epoch 4/20\n",
      "31/31 [==============================] - 7s 240ms/step - loss: 2.2985 - accuracy: 0.1188 - val_loss: 2.3014 - val_accuracy: 0.0998\n",
      "Epoch 5/20\n",
      "31/31 [==============================] - 7s 222ms/step - loss: 2.2767 - accuracy: 0.1395 - val_loss: 2.2924 - val_accuracy: 0.1028\n",
      "Epoch 6/20\n",
      "31/31 [==============================] - 7s 229ms/step - loss: 2.2560 - accuracy: 0.1374 - val_loss: 2.2796 - val_accuracy: 0.1341\n",
      "Epoch 7/20\n",
      "31/31 [==============================] - 7s 218ms/step - loss: 2.2500 - accuracy: 0.1508 - val_loss: 2.2574 - val_accuracy: 0.1583\n",
      "Epoch 8/20\n",
      "31/31 [==============================] - 7s 220ms/step - loss: 2.1993 - accuracy: 0.1808 - val_loss: 2.2399 - val_accuracy: 0.1532\n",
      "Epoch 9/20\n",
      "31/31 [==============================] - 7s 231ms/step - loss: 2.1709 - accuracy: 0.1754 - val_loss: 2.1700 - val_accuracy: 0.2077\n",
      "Epoch 10/20\n",
      "31/31 [==============================] - 7s 217ms/step - loss: 2.1540 - accuracy: 0.2235 - val_loss: 2.1525 - val_accuracy: 0.2258\n",
      "Epoch 11/20\n",
      "31/31 [==============================] - 7s 229ms/step - loss: 2.0471 - accuracy: 0.2469 - val_loss: 2.0624 - val_accuracy: 0.2470\n",
      "Epoch 12/20\n",
      "31/31 [==============================] - 8s 247ms/step - loss: 2.0334 - accuracy: 0.2397 - val_loss: 1.9752 - val_accuracy: 0.2944\n",
      "Epoch 13/20\n",
      "31/31 [==============================] - 8s 261ms/step - loss: 1.9020 - accuracy: 0.2758 - val_loss: 1.9566 - val_accuracy: 0.2792\n",
      "Epoch 14/20\n",
      "31/31 [==============================] - 7s 241ms/step - loss: 1.8694 - accuracy: 0.2974 - val_loss: 1.8532 - val_accuracy: 0.2873\n",
      "Epoch 15/20\n",
      "31/31 [==============================] - 9s 298ms/step - loss: 1.8568 - accuracy: 0.2975 - val_loss: 1.8576 - val_accuracy: 0.3044\n",
      "Epoch 16/20\n",
      "31/31 [==============================] - 8s 263ms/step - loss: 1.7558 - accuracy: 0.3275 - val_loss: 1.8368 - val_accuracy: 0.3296\n",
      "Epoch 17/20\n",
      "31/31 [==============================] - 7s 233ms/step - loss: 1.7519 - accuracy: 0.3559 - val_loss: 1.7924 - val_accuracy: 0.3185\n",
      "Epoch 18/20\n",
      "31/31 [==============================] - 7s 225ms/step - loss: 1.7976 - accuracy: 0.3058 - val_loss: 1.8284 - val_accuracy: 0.3105\n",
      "Epoch 19/20\n",
      "31/31 [==============================] - 7s 225ms/step - loss: 1.7041 - accuracy: 0.3285 - val_loss: 1.8673 - val_accuracy: 0.3065\n",
      "Epoch 20/20\n",
      "31/31 [==============================] - 7s 238ms/step - loss: 1.6672 - accuracy: 0.3931 - val_loss: 1.7615 - val_accuracy: 0.3407\n"
     ]
    },
    {
     "data": {
      "text/plain": [
       "<tensorflow.python.keras.callbacks.History at 0x14937cd8760>"
      ]
     },
     "execution_count": 16,
     "metadata": {},
     "output_type": "execute_result"
    }
   ],
   "source": [
    "steps_per_epoch = len(train_paths) // batch_size\n",
    "validation_steps = len(test_paths) // batch_size\n",
    "\n",
    "model.fit_generator(\n",
    "    train_dataset,\n",
    "    steps_per_epoch=steps_per_epoch,\n",
    "    validation_data=test_dataset,\n",
    "    validation_steps=validation_steps,\n",
    "    epochs=num_epochs,\n",
    "    callbacks=[learning_rate_scheduler]\n",
    ")"
   ]
  },
  {
   "cell_type": "markdown",
   "metadata": {},
   "source": [
    "https://www.tensorflow.org/tensorboard/r2/image_summaries#setup"
   ]
  }
 ],
 "metadata": {
  "kernelspec": {
   "display_name": "Python 3",
   "language": "python",
   "name": "python3"
  },
  "language_info": {
   "codemirror_mode": {
    "name": "ipython",
    "version": 3
   },
   "file_extension": ".py",
   "mimetype": "text/x-python",
   "name": "python",
   "nbconvert_exporter": "python",
   "pygments_lexer": "ipython3",
   "version": "3.8.3"
  }
 },
 "nbformat": 4,
 "nbformat_minor": 2
}
