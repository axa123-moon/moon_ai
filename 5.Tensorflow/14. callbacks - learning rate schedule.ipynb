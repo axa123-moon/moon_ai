{
 "cells": [
  {
   "cell_type": "markdown",
   "metadata": {},
   "source": [
    "# TensorFlow 2.0"
   ]
  },
  {
   "cell_type": "code",
   "execution_count": 1,
   "metadata": {},
   "outputs": [],
   "source": [
    "import os\n",
    "from glob import glob\n",
    "from datetime import datetime\n",
    "\n",
    "import numpy as np\n",
    "\n",
    "import tensorflow as tf\n",
    "from tensorflow.keras import layers\n",
    "\n",
    "from tensorflow.keras import datasets \n",
    "\n",
    "import matplotlib.pyplot as plt\n",
    "\n",
    "%matplotlib inline"
   ]
  },
  {
   "cell_type": "markdown",
   "metadata": {},
   "source": [
    "## Hyperparameter Tunning"
   ]
  },
  {
   "cell_type": "code",
   "execution_count": 2,
   "metadata": {},
   "outputs": [],
   "source": [
    "num_epochs = 20\n",
    "batch_size = 32\n",
    "\n",
    "learning_rate = 0.001\n",
    "\n",
    "dropout_rate = 0.5\n",
    "\n",
    "input_shape = (32, 32, 3)\n",
    "num_classes = 10"
   ]
  },
  {
   "cell_type": "markdown",
   "metadata": {},
   "source": [
    "## Build Model"
   ]
  },
  {
   "cell_type": "code",
   "execution_count": 3,
   "metadata": {},
   "outputs": [],
   "source": [
    "inputs = layers.Input(input_shape)\n",
    "\n",
    "net = layers.Conv2D(32, (3, 3), padding='SAME')(inputs)\n",
    "net = layers.Activation('relu')(net)\n",
    "net = layers.Conv2D(32, (3, 3), padding='SAME')(net)\n",
    "net = layers.Activation('relu')(net)\n",
    "net = layers.MaxPooling2D(pool_size=(2, 2))(net)\n",
    "net = layers.Dropout(dropout_rate)(net)\n",
    "\n",
    "net = layers.Conv2D(64, (3, 3), padding='SAME')(net)\n",
    "net = layers.Activation('relu')(net)\n",
    "net = layers.Conv2D(64, (3, 3), padding='SAME')(net)\n",
    "net = layers.Activation('relu')(net)\n",
    "net = layers.MaxPooling2D(pool_size=(2, 2))(net)\n",
    "net = layers.Dropout(dropout_rate)(net)\n",
    "\n",
    "net = layers.Flatten()(net)\n",
    "net = layers.Dense(512)(net)\n",
    "net = layers.Activation('relu')(net)\n",
    "net = layers.Dropout(dropout_rate)(net)\n",
    "net = layers.Dense(num_classes)(net)\n",
    "net = layers.Activation('softmax')(net)\n",
    "\n",
    "model = tf.keras.Model(inputs=inputs, outputs=net, name='Basic_CNN')"
   ]
  },
  {
   "cell_type": "code",
   "execution_count": 4,
   "metadata": {},
   "outputs": [],
   "source": [
    "# Model is the full model w/o custom layers\n",
    "model.compile(optimizer=tf.keras.optimizers.Adam(learning_rate),  # Optimization\n",
    "              loss='sparse_categorical_crossentropy',  # Loss Function \n",
    "              metrics=['accuracy'])  # Metrics / Accuracy"
   ]
  },
  {
   "cell_type": "markdown",
   "metadata": {},
   "source": [
    "# Data Preprocess"
   ]
  },
  {
   "cell_type": "code",
   "execution_count": 5,
   "metadata": {},
   "outputs": [],
   "source": [
    "train_paths = glob('../dataset/cifar/train/*.png')[:1000]\n",
    "test_paths = glob('../dataset/cifar/test/*.png')[:1000]"
   ]
  },
  {
   "cell_type": "code",
   "execution_count": 6,
   "metadata": {},
   "outputs": [],
   "source": [
    "def get_class_name(path):\n",
    "    return path.split('_')[-1].replace('.png', '')"
   ]
  },
  {
   "cell_type": "code",
   "execution_count": 7,
   "metadata": {},
   "outputs": [],
   "source": [
    "train_labels = [get_class_name(path) for path in train_paths]\n",
    "class_names = np.unique(train_labels)"
   ]
  },
  {
   "cell_type": "code",
   "execution_count": 8,
   "metadata": {},
   "outputs": [],
   "source": [
    "def get_label(path):\n",
    "    fname = tf.strings.split(path, '_')[-1]\n",
    "    lbl_name = tf.strings.regex_replace(fname, '.png', '')\n",
    "    onehot = tf.cast(lbl_name == class_names, tf.uint8)\n",
    "    return tf.argmax(onehot)  # 이번에는 onehot이 아닌 label 번호로"
   ]
  },
  {
   "cell_type": "code",
   "execution_count": 9,
   "metadata": {},
   "outputs": [],
   "source": [
    "def load_image_label(path):\n",
    "    gfile = tf.io.read_file(path)\n",
    "    image = tf.io.decode_image(gfile)\n",
    "    image = tf.cast(image, tf.float32) / 255.  # rescale\n",
    "    \n",
    "    label = get_label(path)\n",
    "    return image, label"
   ]
  },
  {
   "cell_type": "code",
   "execution_count": 10,
   "metadata": {},
   "outputs": [],
   "source": [
    "# Image Augmentation 수행\n",
    "def image_preprocess(image, label):\n",
    "    image = tf.image.random_flip_up_down(image)\n",
    "    image = tf.image.random_flip_left_right(image)\n",
    "    return image, label"
   ]
  },
  {
   "cell_type": "code",
   "execution_count": 11,
   "metadata": {},
   "outputs": [
    {
     "data": {
      "image/png": "[encoded data removed]",
      "text/plain": [
       "<Figure size 432x288 with 2 Axes>"
      ]
     },
     "metadata": {
      "needs_background": "light"
     },
     "output_type": "display_data"
    }
   ],
   "source": [
    "image, label = load_image_label(train_paths[0])\n",
    "trans_image, label = image_preprocess(image, label)\n",
    "\n",
    "plt.subplot(121)\n",
    "plt.title('Original Image')\n",
    "plt.imshow(image)\n",
    "\n",
    "plt.subplot(122)\n",
    "plt.title('Tranformed Image')\n",
    "plt.imshow(trans_image)\n",
    "plt.show()"
   ]
  },
  {
   "cell_type": "code",
   "execution_count": 12,
   "metadata": {},
   "outputs": [],
   "source": [
    "AUTOTUNE = tf.data.experimental.AUTOTUNE"
   ]
  },
  {
   "cell_type": "code",
   "execution_count": 13,
   "metadata": {
    "scrolled": false
   },
   "outputs": [],
   "source": [
    "train_dataset = tf.data.Dataset.from_tensor_slices(train_paths)\n",
    "train_dataset = train_dataset.map(load_image_label, num_parallel_calls=AUTOTUNE)\n",
    "train_dataset = train_dataset.map(image_preprocess, num_parallel_calls=AUTOTUNE)\n",
    "train_dataset = train_dataset.batch(batch_size)\n",
    "train_dataset = train_dataset.shuffle(buffer_size=len(train_paths))\n",
    "train_dataset = train_dataset.repeat()"
   ]
  },
  {
   "cell_type": "code",
   "execution_count": 14,
   "metadata": {},
   "outputs": [],
   "source": [
    "test_dataset = tf.data.Dataset.from_tensor_slices(test_paths)\n",
    "test_dataset = test_dataset.map(load_image_label, num_parallel_calls=AUTOTUNE)\n",
    "test_dataset = test_dataset.batch(batch_size)\n",
    "test_dataset = test_dataset.repeat()"
   ]
  },
  {
   "cell_type": "markdown",
   "metadata": {},
   "source": [
    "# Learning Rate Scheduler"
   ]
  },
  {
   "cell_type": "code",
   "execution_count": 15,
   "metadata": {},
   "outputs": [],
   "source": [
    "import math"
   ]
  },
  {
   "cell_type": "code",
   "execution_count": 16,
   "metadata": {},
   "outputs": [],
   "source": [
    "def scheduler(epoch):\n",
    "    if epoch < 10:\n",
    "        return 0.001\n",
    "    else:\n",
    "        return 0.001 * math.exp(0.1 * (10 - epoch))\n",
    "\n",
    "learning_rate_scheduler = tf.keras.callbacks.LearningRateScheduler(scheduler)"
   ]
  },
  {
   "cell_type": "markdown",
   "metadata": {},
   "source": [
    "## Training"
   ]
  },
  {
   "cell_type": "markdown",
   "metadata": {},
   "source": [
    "http://localhost:6006"
   ]
  },
  {
   "cell_type": "code",
   "execution_count": 17,
   "metadata": {},
   "outputs": [
    {
     "name": "stdout",
     "output_type": "stream",
     "text": [
      "WARNING:tensorflow:From <ipython-input-17-98963009f610>:4: Model.fit_generator (from tensorflow.python.keras.engine.training) is deprecated and will be removed in a future version.\n",
      "Instructions for updating:\n",
      "Please use Model.fit, which supports generators.\n",
      "Epoch 1/20\n",
      "31/31 [==============================] - 8s 260ms/step - loss: 2.3109 - accuracy: 0.1126 - val_loss: 2.2958 - val_accuracy: 0.1129\n",
      "Epoch 2/20\n",
      "31/31 [==============================] - 8s 257ms/step - loss: 2.2753 - accuracy: 0.1343 - val_loss: 2.2463 - val_accuracy: 0.1300\n",
      "Epoch 3/20\n",
      "31/31 [==============================] - 8s 258ms/step - loss: 2.1856 - accuracy: 0.1901 - val_loss: 2.1129 - val_accuracy: 0.2429\n",
      "Epoch 4/20\n",
      "31/31 [==============================] - 8s 253ms/step - loss: 2.0995 - accuracy: 0.2262 - val_loss: 2.1501 - val_accuracy: 0.1976\n",
      "Epoch 5/20\n",
      "31/31 [==============================] - 8s 253ms/step - loss: 2.0980 - accuracy: 0.2056 - val_loss: 1.9779 - val_accuracy: 0.2450\n",
      "Epoch 6/20\n",
      "31/31 [==============================] - 8s 261ms/step - loss: 2.0242 - accuracy: 0.2252 - val_loss: 1.8994 - val_accuracy: 0.2802\n",
      "Epoch 7/20\n",
      "31/31 [==============================] - 8s 252ms/step - loss: 1.9941 - accuracy: 0.2552 - val_loss: 1.8814 - val_accuracy: 0.2823\n",
      "Epoch 8/20\n",
      "31/31 [==============================] - 8s 255ms/step - loss: 1.9492 - accuracy: 0.2676 - val_loss: 1.9183 - val_accuracy: 0.3065\n",
      "Epoch 9/20\n",
      "31/31 [==============================] - 8s 258ms/step - loss: 1.9257 - accuracy: 0.2843 - val_loss: 1.8656 - val_accuracy: 0.3075\n",
      "Epoch 10/20\n",
      "31/31 [==============================] - 8s 251ms/step - loss: 1.8633 - accuracy: 0.2934 - val_loss: 1.7940 - val_accuracy: 0.3579\n",
      "Epoch 11/20\n",
      "31/31 [==============================] - 8s 258ms/step - loss: 1.8485 - accuracy: 0.3202 - val_loss: 1.8549 - val_accuracy: 0.3175\n",
      "Epoch 12/20\n",
      "31/31 [==============================] - 8s 263ms/step - loss: 1.7970 - accuracy: 0.3377 - val_loss: 1.8215 - val_accuracy: 0.3569\n",
      "Epoch 13/20\n",
      "31/31 [==============================] - 8s 267ms/step - loss: 1.7446 - accuracy: 0.3523 - val_loss: 1.7278 - val_accuracy: 0.3760\n",
      "Epoch 14/20\n",
      "31/31 [==============================] - 8s 263ms/step - loss: 1.6817 - accuracy: 0.3814 - val_loss: 1.7106 - val_accuracy: 0.3861\n",
      "Epoch 15/20\n",
      "31/31 [==============================] - 8s 270ms/step - loss: 1.6742 - accuracy: 0.3730 - val_loss: 1.7192 - val_accuracy: 0.3589\n",
      "Epoch 16/20\n",
      "31/31 [==============================] - 8s 250ms/step - loss: 1.6262 - accuracy: 0.4121 - val_loss: 1.7021 - val_accuracy: 0.3831\n",
      "Epoch 17/20\n",
      "31/31 [==============================] - 8s 254ms/step - loss: 1.6415 - accuracy: 0.3957 - val_loss: 1.6657 - val_accuracy: 0.3901\n",
      "Epoch 18/20\n",
      "31/31 [==============================] - 8s 258ms/step - loss: 1.5860 - accuracy: 0.4032 - val_loss: 1.6548 - val_accuracy: 0.3821\n",
      "Epoch 19/20\n",
      "31/31 [==============================] - 8s 252ms/step - loss: 1.5874 - accuracy: 0.4039 - val_loss: 1.7299 - val_accuracy: 0.3942\n",
      "Epoch 20/20\n",
      "31/31 [==============================] - 8s 257ms/step - loss: 1.5414 - accuracy: 0.4380 - val_loss: 1.6221 - val_accuracy: 0.3962\n"
     ]
    },
    {
     "data": {
      "text/plain": [
       "<tensorflow.python.keras.callbacks.History at 0x173f0f23df0>"
      ]
     },
     "execution_count": 17,
     "metadata": {},
     "output_type": "execute_result"
    }
   ],
   "source": [
    "steps_per_epoch = len(train_paths) // batch_size\n",
    "validation_steps = len(test_paths) // batch_size\n",
    "\n",
    "model.fit_generator(\n",
    "    train_dataset,\n",
    "    steps_per_epoch=steps_per_epoch,\n",
    "    validation_data=test_dataset,\n",
    "    validation_steps=validation_steps,\n",
    "    epochs=num_epochs,\n",
    "    callbacks=[learning_rate_scheduler]\n",
    ")"
   ]
  },
  {
   "cell_type": "markdown",
   "metadata": {},
   "source": [
    "https://www.tensorflow.org/tensorboard/r2/image_summaries#setup"
   ]
  }
 ],
 "metadata": {
  "kernelspec": {
   "display_name": "Python 3",
   "language": "python",
   "name": "python3"
  },
  "language_info": {
   "codemirror_mode": {
    "name": "ipython",
    "version": 3
   },
   "file_extension": ".py",
   "mimetype": "text/x-python",
   "name": "python",
   "nbconvert_exporter": "python",
   "pygments_lexer": "ipython3",
   "version": "3.8.3"
  }
 },
 "nbformat": 4,
 "nbformat_minor": 2
}
