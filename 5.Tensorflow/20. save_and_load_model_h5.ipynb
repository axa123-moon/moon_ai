{
 "cells": [
  {
   "cell_type": "markdown",
   "metadata": {},
   "source": [
    "# Save & Load"
   ]
  },
  {
   "cell_type": "code",
   "execution_count": 1,
   "metadata": {},
   "outputs": [],
   "source": [
    "import os\n",
    "from glob import glob\n",
    "from datetime import datetime\n",
    "\n",
    "import numpy as np\n",
    "\n",
    "import tensorflow as tf\n",
    "from tensorflow.keras import layers\n",
    "\n",
    "from tensorflow.keras import datasets \n",
    "\n",
    "import matplotlib.pyplot as plt\n",
    "\n",
    "%load_ext tensorboard\n",
    "%matplotlib inline"
   ]
  },
  {
   "cell_type": "markdown",
   "metadata": {},
   "source": [
    "## Hyperparameter Tunning"
   ]
  },
  {
   "cell_type": "code",
   "execution_count": 2,
   "metadata": {},
   "outputs": [],
   "source": [
    "num_epochs = 20\n",
    "batch_size = 32\n",
    "\n",
    "learning_rate = 0.001\n",
    "\n",
    "dropout_rate = 0.5\n",
    "\n",
    "input_shape = (32, 32, 3)\n",
    "num_classes = 10"
   ]
  },
  {
   "cell_type": "markdown",
   "metadata": {},
   "source": [
    "## Build Model"
   ]
  },
  {
   "cell_type": "code",
   "execution_count": 3,
   "metadata": {},
   "outputs": [],
   "source": [
    "inputs = layers.Input(input_shape)\n",
    "\n",
    "net = layers.Conv2D(32, (3, 3), padding='SAME')(inputs)\n",
    "net = layers.Activation('relu')(net)\n",
    "net = layers.Conv2D(32, (3, 3), padding='SAME')(net)\n",
    "net = layers.Activation('relu')(net)\n",
    "net = layers.MaxPooling2D(pool_size=(2, 2))(net)\n",
    "net = layers.Dropout(dropout_rate)(net)\n",
    "\n",
    "net = layers.Conv2D(64, (3, 3), padding='SAME')(net)\n",
    "net = layers.Activation('relu')(net)\n",
    "net = layers.Conv2D(64, (3, 3), padding='SAME')(net)\n",
    "net = layers.Activation('relu')(net)\n",
    "net = layers.MaxPooling2D(pool_size=(2, 2))(net)\n",
    "net = layers.Dropout(dropout_rate)(net)\n",
    "\n",
    "net = layers.Flatten()(net)\n",
    "net = layers.Dense(512)(net)\n",
    "net = layers.Activation('relu')(net)\n",
    "net = layers.Dropout(dropout_rate)(net)\n",
    "net = layers.Dense(num_classes)(net)\n",
    "net = layers.Activation('softmax')(net)\n",
    "\n",
    "model = tf.keras.Model(inputs=inputs, outputs=net, name='Basic_CNN')"
   ]
  },
  {
   "cell_type": "code",
   "execution_count": 4,
   "metadata": {},
   "outputs": [],
   "source": [
    "# Model is the full model w/o custom layers\n",
    "model.compile(optimizer=tf.keras.optimizers.Adam(learning_rate),  # Optimization\n",
    "              loss='sparse_categorical_crossentropy',  # Loss Function \n",
    "              metrics=['accuracy'])  # Metrics / Accuracy"
   ]
  },
  {
   "cell_type": "markdown",
   "metadata": {},
   "source": [
    "# Data Preprocess"
   ]
  },
  {
   "cell_type": "code",
   "execution_count": 5,
   "metadata": {},
   "outputs": [],
   "source": [
    "train_paths = glob('../dataset/cifar/train/*.png')[:1000]\n",
    "test_paths = glob('../dataset/cifar/test/*.png')[:1000]"
   ]
  },
  {
   "cell_type": "code",
   "execution_count": 6,
   "metadata": {},
   "outputs": [],
   "source": [
    "def get_class_name(path):\n",
    "    return path.split('_')[-1].replace('.png', '')"
   ]
  },
  {
   "cell_type": "code",
   "execution_count": 7,
   "metadata": {},
   "outputs": [],
   "source": [
    "train_labels = [get_class_name(path) for path in train_paths]\n",
    "class_names = np.unique(train_labels)"
   ]
  },
  {
   "cell_type": "code",
   "execution_count": 8,
   "metadata": {},
   "outputs": [],
   "source": [
    "def get_label(path):\n",
    "    fname = tf.strings.split(path, '_')[-1]\n",
    "    lbl_name = tf.strings.regex_replace(fname, '.png', '')\n",
    "    onehot = tf.cast(lbl_name == class_names, tf.uint8)\n",
    "    return tf.argmax(onehot)  # 이번에는 onehot이 아닌 label 번호로"
   ]
  },
  {
   "cell_type": "code",
   "execution_count": 9,
   "metadata": {},
   "outputs": [],
   "source": [
    "def load_image_label(path):\n",
    "    gfile = tf.io.read_file(path)\n",
    "    image = tf.io.decode_image(gfile)\n",
    "    image = tf.cast(image, tf.float32) / 255.  # rescale\n",
    "    \n",
    "    label = get_label(path)\n",
    "    return image, label"
   ]
  },
  {
   "cell_type": "code",
   "execution_count": 10,
   "metadata": {},
   "outputs": [],
   "source": [
    "def image_preprocess(image, label):\n",
    "    image = tf.image.random_flip_up_down(image)\n",
    "    image = tf.image.random_flip_left_right(image)\n",
    "    return image, label"
   ]
  },
  {
   "cell_type": "code",
   "execution_count": 11,
   "metadata": {},
   "outputs": [],
   "source": [
    "AUTOTUNE = tf.data.experimental.AUTOTUNE"
   ]
  },
  {
   "cell_type": "code",
   "execution_count": 12,
   "metadata": {
    "scrolled": false
   },
   "outputs": [],
   "source": [
    "train_dataset = tf.data.Dataset.from_tensor_slices(train_paths)\n",
    "train_dataset = train_dataset.map(load_image_label, num_parallel_calls=AUTOTUNE)\n",
    "train_dataset = train_dataset.map(image_preprocess, num_parallel_calls=AUTOTUNE)\n",
    "train_dataset = train_dataset.batch(batch_size)\n",
    "train_dataset = train_dataset.shuffle(buffer_size=len(train_paths))\n",
    "train_dataset = train_dataset.repeat()"
   ]
  },
  {
   "cell_type": "code",
   "execution_count": 13,
   "metadata": {},
   "outputs": [],
   "source": [
    "test_dataset = tf.data.Dataset.from_tensor_slices(test_paths)\n",
    "test_dataset = test_dataset.map(load_image_label, num_parallel_calls=AUTOTUNE)\n",
    "test_dataset = test_dataset.batch(batch_size)\n",
    "test_dataset = test_dataset.repeat()"
   ]
  },
  {
   "cell_type": "markdown",
   "metadata": {},
   "source": [
    "# Checkpoint"
   ]
  },
  {
   "cell_type": "code",
   "execution_count": 14,
   "metadata": {},
   "outputs": [],
   "source": [
    "save_path = 'ckpt'"
   ]
  },
  {
   "cell_type": "code",
   "execution_count": 15,
   "metadata": {},
   "outputs": [],
   "source": [
    "checkpoint = tf.keras.callbacks.ModelCheckpoint(save_path, monitor='val_acc', verbose=1, save_best_only=True, mode='max')"
   ]
  },
  {
   "cell_type": "markdown",
   "metadata": {},
   "source": [
    "## Training"
   ]
  },
  {
   "cell_type": "markdown",
   "metadata": {},
   "source": [
    "http://localhost:6006"
   ]
  },
  {
   "cell_type": "code",
   "execution_count": 16,
   "metadata": {},
   "outputs": [
    {
     "name": "stdout",
     "output_type": "stream",
     "text": [
      "Epoch 1/20\n",
      "31/31 [==============================] - ETA: 0s - loss: 2.3246 - accuracy: 0.1074 ETA: 1s - loss: 2.3WARNING:tensorflow:Can save best model only with val_acc available, skipping.\n",
      "31/31 [==============================] - 7s 225ms/step - loss: 2.3246 - accuracy: 0.1074 - val_loss: 2.3011 - val_accuracy: 0.0897\n",
      "Epoch 2/20\n",
      "31/31 [==============================] - ETA: 0s - loss: 2.2967 - accuracy: 0.1105WARNING:tensorflow:Can save best model only with val_acc available, skipping.\n",
      "31/31 [==============================] - 7s 237ms/step - loss: 2.2967 - accuracy: 0.1105 - val_loss: 2.2950 - val_accuracy: 0.1018\n",
      "Epoch 3/20\n",
      "31/31 [==============================] - ETA: 0s - loss: 2.2627 - accuracy: 0.1684WARNING:tensorflow:Can save best model only with val_acc available, skipping.\n",
      "31/31 [==============================] - 7s 217ms/step - loss: 2.2627 - accuracy: 0.1684 - val_loss: 2.2701 - val_accuracy: 0.1310\n",
      "Epoch 4/20\n",
      "31/31 [==============================] - ETA: 0s - loss: 2.2158 - accuracy: 0.1498WARNING:tensorflow:Can save best model only with val_acc available, skipping.\n",
      "31/31 [==============================] - 7s 225ms/step - loss: 2.2158 - accuracy: 0.1498 - val_loss: 2.1847 - val_accuracy: 0.1875\n",
      "Epoch 5/20\n",
      "31/31 [==============================] - ETA: 0s - loss: 2.1566 - accuracy: 0.1839WARNING:tensorflow:Can save best model only with val_acc available, skipping.\n",
      "31/31 [==============================] - 7s 220ms/step - loss: 2.1566 - accuracy: 0.1839 - val_loss: 2.0968 - val_accuracy: 0.2147\n",
      "Epoch 6/20\n",
      "31/31 [==============================] - ETA: 0s - loss: 2.0596 - accuracy: 0.2407WARNING:tensorflow:Can save best model only with val_acc available, skipping.\n",
      "31/31 [==============================] - 7s 237ms/step - loss: 2.0596 - accuracy: 0.2407 - val_loss: 2.1248 - val_accuracy: 0.2097\n",
      "Epoch 7/20\n",
      "31/31 [==============================] - ETA: 0s - loss: 2.0416 - accuracy: 0.2510 ETA: 2s - loss: 2WARNING:tensorflow:Can save best model only with val_acc available, skipping.\n",
      "31/31 [==============================] - 7s 234ms/step - loss: 2.0416 - accuracy: 0.2510 - val_loss: 1.9973 - val_accuracy: 0.2450\n",
      "Epoch 8/20\n",
      "31/31 [==============================] - ETA: 0s - loss: 1.9620 - accuracy: 0.2581WARNING:tensorflow:Can save best model only with val_acc available, skipping.\n",
      "31/31 [==============================] - 7s 231ms/step - loss: 1.9620 - accuracy: 0.2581 - val_loss: 2.1065 - val_accuracy: 0.2298\n",
      "Epoch 9/20\n",
      "31/31 [==============================] - ETA: 0s - loss: 1.9879 - accuracy: 0.2669WARNING:tensorflow:Can save best model only with val_acc available, skipping.\n",
      "31/31 [==============================] - 7s 224ms/step - loss: 1.9879 - accuracy: 0.2669 - val_loss: 1.9400 - val_accuracy: 0.2762\n",
      "Epoch 10/20\n",
      "31/31 [==============================] - ETA: 0s - loss: 1.8879 - accuracy: 0.2944WARNING:tensorflow:Can save best model only with val_acc available, skipping.\n",
      "31/31 [==============================] - 7s 235ms/step - loss: 1.8879 - accuracy: 0.2944 - val_loss: 1.9219 - val_accuracy: 0.2923\n",
      "Epoch 11/20\n",
      "31/31 [==============================] - ETA: 0s - loss: 1.8809 - accuracy: 0.3075WARNING:tensorflow:Can save best model only with val_acc available, skipping.\n",
      "31/31 [==============================] - 7s 222ms/step - loss: 1.8809 - accuracy: 0.3075 - val_loss: 1.8354 - val_accuracy: 0.3327\n",
      "Epoch 12/20\n",
      "31/31 [==============================] - ETA: 0s - loss: 1.8372 - accuracy: 0.3104WARNING:tensorflow:Can save best model only with val_acc available, skipping.\n",
      "31/31 [==============================] - 7s 219ms/step - loss: 1.8372 - accuracy: 0.3104 - val_loss: 1.8560 - val_accuracy: 0.3387\n",
      "Epoch 13/20\n",
      "31/31 [==============================] - ETA: 0s - loss: 1.7859 - accuracy: 0.3397WARNING:tensorflow:Can save best model only with val_acc available, skipping.\n",
      "31/31 [==============================] - 7s 236ms/step - loss: 1.7859 - accuracy: 0.3397 - val_loss: 1.8245 - val_accuracy: 0.3347\n",
      "Epoch 14/20\n",
      "31/31 [==============================] - ETA: 0s - loss: 1.8227 - accuracy: 0.3146WARNING:tensorflow:Can save best model only with val_acc available, skipping.\n",
      "31/31 [==============================] - 7s 221ms/step - loss: 1.8227 - accuracy: 0.3146 - val_loss: 1.8049 - val_accuracy: 0.3357\n",
      "Epoch 15/20\n",
      "31/31 [==============================] - ETA: 0s - loss: 1.7139 - accuracy: 0.3926WARNING:tensorflow:Can save best model only with val_acc available, skipping.\n",
      "31/31 [==============================] - 8s 253ms/step - loss: 1.7139 - accuracy: 0.3926 - val_loss: 1.8010 - val_accuracy: 0.3508\n",
      "Epoch 16/20\n",
      "31/31 [==============================] - ETA: 0s - loss: 1.7705 - accuracy: 0.3512WARNING:tensorflow:Can save best model only with val_acc available, skipping.\n",
      "31/31 [==============================] - 7s 239ms/step - loss: 1.7705 - accuracy: 0.3512 - val_loss: 1.7611 - val_accuracy: 0.3397\n",
      "Epoch 17/20\n",
      "31/31 [==============================] - ETA: 0s - loss: 1.6985 - accuracy: 0.3760WARNING:tensorflow:Can save best model only with val_acc available, skipping.\n",
      "31/31 [==============================] - 8s 245ms/step - loss: 1.6985 - accuracy: 0.3760 - val_loss: 1.7436 - val_accuracy: 0.3841\n",
      "Epoch 18/20\n",
      "31/31 [==============================] - ETA: 0s - loss: 1.6589 - accuracy: 0.3853WARNING:tensorflow:Can save best model only with val_acc available, skipping.\n",
      "31/31 [==============================] - 7s 228ms/step - loss: 1.6589 - accuracy: 0.3853 - val_loss: 1.7392 - val_accuracy: 0.3710\n",
      "Epoch 19/20\n",
      "31/31 [==============================] - ETA: 0s - loss: 1.6575 - accuracy: 0.3926WARNING:tensorflow:Can save best model only with val_acc available, skipping.\n",
      "31/31 [==============================] - 7s 221ms/step - loss: 1.6575 - accuracy: 0.3926 - val_loss: 1.6808 - val_accuracy: 0.3871\n",
      "Epoch 20/20\n",
      "31/31 [==============================] - ETA: 0s - loss: 1.6274 - accuracy: 0.4019 ETA: 1s - loss: 1.6197 - WARNING:tensorflow:Can save best model only with val_acc available, skipping.\n",
      "31/31 [==============================] - 7s 219ms/step - loss: 1.6274 - accuracy: 0.4019 - val_loss: 1.6808 - val_accuracy: 0.3982\n"
     ]
    }
   ],
   "source": [
    "steps_per_epoch = len(train_paths) // batch_size\n",
    "test_steps = len(test_paths) // batch_size\n",
    "\n",
    "history = model.fit(\n",
    "    train_dataset,\n",
    "    steps_per_epoch=steps_per_epoch,\n",
    "    validation_data=test_dataset,\n",
    "    validation_steps=test_steps,\n",
    "    epochs=num_epochs, \n",
    "    callbacks=[checkpoint]\n",
    ")"
   ]
  },
  {
   "cell_type": "markdown",
   "metadata": {},
   "source": [
    "# Saving Model"
   ]
  },
  {
   "cell_type": "code",
   "execution_count": 17,
   "metadata": {},
   "outputs": [],
   "source": [
    "save_path = 'my_model.h5'"
   ]
  },
  {
   "cell_type": "code",
   "execution_count": 18,
   "metadata": {},
   "outputs": [],
   "source": [
    "# Save the model architecture and the weights\n",
    "model.save(save_path, include_optimizer=True)"
   ]
  },
  {
   "cell_type": "code",
   "execution_count": 19,
   "metadata": {},
   "outputs": [],
   "source": [
    "# Load the model architecture and the weights\n",
    "model = tf.keras.models.load_model('my_model.h5')"
   ]
  },
  {
   "cell_type": "code",
   "execution_count": null,
   "metadata": {},
   "outputs": [],
   "source": []
  },
  {
   "cell_type": "markdown",
   "metadata": {},
   "source": [
    "# Saving Model - 2"
   ]
  },
  {
   "cell_type": "code",
   "execution_count": 20,
   "metadata": {},
   "outputs": [],
   "source": [
    "# Save the weights\n",
    "model.save_weights('model_weights.h5')\n",
    "\n",
    "# Save the model architecture\n",
    "with open('model_architecture.json', 'w') as f:\n",
    "    f.write(model.to_json())"
   ]
  },
  {
   "cell_type": "code",
   "execution_count": 21,
   "metadata": {},
   "outputs": [],
   "source": [
    "from tensorflow.keras.models import model_from_json\n",
    "\n",
    "# Model reconstruction from JSON file\n",
    "with open('model_architecture.json', 'r') as f:\n",
    "    model = model_from_json(f.read())\n",
    "\n",
    "# Load weights into the new model\n",
    "model.load_weights('model_weights.h5')"
   ]
  },
  {
   "cell_type": "markdown",
   "metadata": {},
   "source": [
    "# model.h5 들여다보기"
   ]
  },
  {
   "cell_type": "code",
   "execution_count": 22,
   "metadata": {},
   "outputs": [],
   "source": [
    "import h5py\n",
    "\n",
    "model_file = h5py.File('my_model.h5','r+')    "
   ]
  },
  {
   "cell_type": "code",
   "execution_count": 23,
   "metadata": {},
   "outputs": [
    {
     "data": {
      "text/plain": [
       "<KeysViewHDF5 ['model_weights', 'optimizer_weights']>"
      ]
     },
     "execution_count": 23,
     "metadata": {},
     "output_type": "execute_result"
    }
   ],
   "source": [
    "model_file.keys()"
   ]
  },
  {
   "cell_type": "code",
   "execution_count": 24,
   "metadata": {},
   "outputs": [
    {
     "data": {
      "text/plain": [
       "<KeysViewHDF5 ['activation', 'activation_1', 'activation_2', 'activation_3', 'activation_4', 'activation_5', 'conv2d', 'conv2d_1', 'conv2d_2', 'conv2d_3', 'dense', 'dense_1', 'dropout', 'dropout_1', 'dropout_2', 'flatten', 'input_1', 'max_pooling2d', 'max_pooling2d_1']>"
      ]
     },
     "execution_count": 24,
     "metadata": {},
     "output_type": "execute_result"
    }
   ],
   "source": [
    "model_file['model_weights'].keys()"
   ]
  },
  {
   "cell_type": "code",
   "execution_count": 25,
   "metadata": {},
   "outputs": [
    {
     "data": {
      "text/plain": [
       "<KeysViewHDF5 ['conv2d']>"
      ]
     },
     "execution_count": 25,
     "metadata": {},
     "output_type": "execute_result"
    }
   ],
   "source": [
    "model_file['model_weights']['conv2d'].keys()"
   ]
  },
  {
   "cell_type": "code",
   "execution_count": 26,
   "metadata": {},
   "outputs": [
    {
     "data": {
      "text/plain": [
       "<KeysViewHDF5 ['bias:0', 'kernel:0']>"
      ]
     },
     "execution_count": 26,
     "metadata": {},
     "output_type": "execute_result"
    }
   ],
   "source": [
    "model_file['model_weights']['conv2d']['conv2d'].keys()"
   ]
  },
  {
   "cell_type": "code",
   "execution_count": 27,
   "metadata": {},
   "outputs": [
    {
     "data": {
      "text/plain": [
       "<HDF5 dataset \"kernel:0\": shape (3, 3, 3, 32), type \"<f4\">"
      ]
     },
     "execution_count": 27,
     "metadata": {},
     "output_type": "execute_result"
    }
   ],
   "source": [
    "model_file['model_weights']['conv2d']['conv2d']['kernel:0']"
   ]
  },
  {
   "cell_type": "code",
   "execution_count": 28,
   "metadata": {},
   "outputs": [
    {
     "data": {
      "text/plain": [
       "array([[[[-3.19316238e-02,  8.07693508e-03, -3.29100783e-03,\n",
       "           1.19189858e-01,  3.14581580e-02, -1.23483710e-01,\n",
       "           2.05476284e-02,  5.33935912e-02,  1.24092072e-01,\n",
       "           1.15196660e-01, -1.70140028e-01, -1.57607794e-02,\n",
       "          -3.80136333e-02,  9.84424427e-02, -5.84885739e-02,\n",
       "          -1.27600893e-01,  5.46499155e-02,  2.31469050e-02,\n",
       "          -1.25634953e-01, -1.33529097e-01,  3.81863490e-03,\n",
       "           4.76853624e-02,  2.55253576e-02,  1.05632901e-01,\n",
       "          -2.89070681e-02, -9.98184159e-02,  5.86258918e-02,\n",
       "          -2.91876979e-02, -2.31441371e-02,  3.16969422e-03,\n",
       "           1.19447283e-01,  1.50333002e-01],\n",
       "         [ 8.67402181e-02, -1.87144801e-02, -8.13820511e-02,\n",
       "           1.38858445e-02,  8.05762410e-02, -1.31813645e-01,\n",
       "          -4.71420437e-02,  5.71946427e-02, -2.84033995e-02,\n",
       "           2.82548014e-02,  1.75196044e-02, -2.32636109e-02,\n",
       "          -1.33076832e-01,  9.06214342e-02,  7.74158612e-02,\n",
       "          -1.03757801e-02,  1.05799697e-01,  1.47458613e-02,\n",
       "           2.67054955e-03, -5.71862757e-02, -1.39573887e-01,\n",
       "           1.23033673e-01, -3.15201022e-02,  8.81005004e-02,\n",
       "           1.12979397e-01,  5.47347590e-02,  1.33758977e-01,\n",
       "          -1.49061412e-01,  9.56100598e-02, -1.06816709e-01,\n",
       "          -6.14772364e-02,  1.21429354e-01],\n",
       "         [ 5.36403283e-02, -6.49919137e-02,  1.32981181e-01,\n",
       "           8.46422389e-02, -1.01093516e-01, -1.32578909e-01,\n",
       "          -2.67096497e-02,  9.12929361e-04, -1.20900013e-03,\n",
       "          -4.77442294e-02, -5.34633249e-02, -6.28128275e-02,\n",
       "           9.57537964e-02,  8.66337940e-02, -4.26206775e-02,\n",
       "          -5.56320213e-02, -6.51383847e-02,  8.98220614e-02,\n",
       "          -5.44589013e-02, -7.27925226e-02,  9.86207575e-02,\n",
       "           1.01058826e-01,  7.79090896e-02, -2.69775297e-02,\n",
       "          -1.08074024e-01,  3.52455117e-02,  1.24825045e-01,\n",
       "          -2.87583061e-02, -9.62353498e-02, -8.19897130e-02,\n",
       "           5.18669896e-02, -4.59885336e-02]],\n",
       "\n",
       "        [[ 8.21610466e-02,  1.07149869e-01, -3.13762836e-02,\n",
       "           5.37919626e-02,  3.68199460e-02,  7.75367534e-03,\n",
       "          -5.98928593e-02, -7.49065951e-02,  9.12442729e-02,\n",
       "           4.79678102e-02, -8.90352279e-02, -1.21736929e-01,\n",
       "          -8.72411802e-02, -3.57783884e-02,  1.19068988e-01,\n",
       "           5.58961742e-02, -1.08596697e-01, -1.07251391e-01,\n",
       "          -1.02635585e-01, -1.02403499e-02,  9.27151665e-02,\n",
       "           3.71321216e-02,  1.01604909e-01, -2.86760069e-02,\n",
       "          -1.32469311e-01, -1.63478851e-02, -2.10518837e-02,\n",
       "           6.75264597e-02, -8.29999670e-02,  7.13402405e-02,\n",
       "          -4.86871116e-02, -7.95284510e-02],\n",
       "         [-1.77282039e-02, -1.10049881e-01,  1.22141294e-01,\n",
       "          -4.59061638e-02,  7.67289475e-02,  3.66879217e-02,\n",
       "           8.19633305e-02,  1.26437470e-01, -2.18002163e-02,\n",
       "          -1.62598621e-02,  4.80573848e-02,  1.29478812e-01,\n",
       "          -1.49716154e-01,  3.21655981e-02,  8.78660455e-02,\n",
       "          -6.05331436e-02, -3.62474881e-02,  3.67670646e-03,\n",
       "          -1.29366815e-01, -1.32761553e-01, -8.40914696e-02,\n",
       "           1.10766076e-01,  9.59850177e-02,  1.09680645e-01,\n",
       "           7.65611976e-02,  7.89137781e-02, -8.80865455e-02,\n",
       "          -1.61500365e-01, -6.97737411e-02,  6.36412054e-02,\n",
       "           3.65348421e-02, -1.07986793e-01],\n",
       "         [-1.76867638e-02,  1.15367301e-01, -4.54673991e-02,\n",
       "           6.53612018e-02, -2.65210029e-02,  5.90811297e-02,\n",
       "          -1.12715021e-01, -9.45716277e-02,  1.17416389e-01,\n",
       "           1.25050321e-01,  5.13332933e-02,  1.50412917e-01,\n",
       "           1.08683266e-01,  8.40603635e-02, -1.11791052e-01,\n",
       "           2.86336592e-03,  1.00631163e-01,  5.17227277e-02,\n",
       "           7.48713315e-02, -3.62130590e-02,  1.28602415e-01,\n",
       "           8.68547037e-02,  9.83353518e-03,  1.22285292e-01,\n",
       "          -3.01582459e-02,  1.16222285e-01,  9.16766301e-02,\n",
       "          -2.94109602e-02,  7.22369030e-02, -1.17302649e-01,\n",
       "          -8.27477500e-02, -2.54943650e-02]],\n",
       "\n",
       "        [[ 7.56172240e-02, -5.74466400e-02,  1.54200211e-01,\n",
       "           3.90022546e-02, -3.66200991e-02,  5.35656177e-02,\n",
       "          -1.43785581e-01,  3.82785732e-03,  8.67951438e-02,\n",
       "          -7.98974335e-02,  2.59937868e-02, -1.36947840e-01,\n",
       "          -5.66577762e-02, -3.05089336e-02,  1.31726593e-01,\n",
       "           5.42704277e-02, -6.73948079e-02, -7.16603994e-02,\n",
       "          -5.66114001e-02,  1.40149947e-02, -5.50803961e-03,\n",
       "           1.01226144e-01, -7.33038560e-02,  1.06255308e-01,\n",
       "          -4.21915166e-02,  5.67817762e-02, -3.81365381e-02,\n",
       "          -4.56023142e-02,  1.19210623e-01,  1.33685559e-01,\n",
       "          -6.64902702e-02, -7.50024468e-02],\n",
       "         [ 1.01514958e-01, -1.19224163e-02,  1.22103043e-01,\n",
       "          -9.78145655e-03,  7.81043768e-02,  1.32532835e-01,\n",
       "          -7.35497475e-02,  2.12871302e-02, -8.06814358e-02,\n",
       "          -1.49996266e-01, -1.55057669e-01, -5.88231497e-02,\n",
       "           9.97727960e-02,  9.57808793e-02,  5.40325269e-02,\n",
       "          -5.58427759e-02,  1.15607478e-01, -5.77807017e-02,\n",
       "          -5.87050356e-02, -1.36935204e-01,  3.47939841e-02,\n",
       "          -6.16009794e-02, -2.76505612e-02, -1.10442117e-01,\n",
       "          -4.30859737e-02,  4.37726714e-02,  1.49425477e-01,\n",
       "           4.00421815e-03,  1.01736419e-01, -1.22675344e-01,\n",
       "           1.04491904e-01, -1.18708506e-01],\n",
       "         [ 1.18890271e-01, -8.54944736e-02,  1.34512514e-01,\n",
       "           3.85528579e-02,  9.13741663e-02,  1.33765697e-01,\n",
       "          -1.05765752e-01, -1.46570876e-01, -1.20275803e-02,\n",
       "          -6.88649118e-02, -1.37042999e-01,  6.25528619e-02,\n",
       "          -3.68332826e-02, -1.10229246e-01, -1.20244324e-01,\n",
       "           7.10189715e-02, -5.92199787e-02,  2.77091451e-02,\n",
       "           4.58650813e-02,  1.52921662e-01, -9.89516303e-02,\n",
       "           4.02934738e-02, -8.85747653e-03,  6.45452365e-02,\n",
       "           9.31560546e-02, -8.80740806e-02,  1.31826431e-01,\n",
       "          -1.30337104e-01,  1.29100338e-01,  1.26390412e-01,\n",
       "          -6.04070676e-03,  8.46581720e-03]]],\n",
       "\n",
       "\n",
       "       [[[-7.94553291e-03, -7.30421543e-02,  7.89618641e-02,\n",
       "           6.39765710e-02, -7.55790770e-02,  3.42778722e-03,\n",
       "          -5.15079275e-02, -4.62080836e-02, -7.58944973e-02,\n",
       "          -6.81642666e-02, -1.23333558e-01,  7.01346993e-02,\n",
       "           8.81734639e-02,  1.11867003e-01, -8.55018049e-02,\n",
       "          -9.40482765e-02,  1.21176049e-01, -1.35496601e-01,\n",
       "          -5.27717322e-02,  1.13066457e-01,  7.12047890e-02,\n",
       "          -1.03123106e-01,  1.97191648e-02, -1.10977091e-01,\n",
       "          -4.93542611e-05,  8.02726746e-02,  5.61637282e-02,\n",
       "           1.00019768e-01, -1.06893502e-01, -3.37144323e-02,\n",
       "          -4.92727235e-02,  1.20299980e-01],\n",
       "         [-1.13384135e-01,  1.46436661e-01, -1.56511009e-01,\n",
       "          -8.30969289e-02, -8.83487314e-02, -1.39344838e-02,\n",
       "           2.48652603e-03, -8.56156636e-04, -8.00937563e-02,\n",
       "           1.25372365e-01, -8.32716227e-02,  8.23634153e-04,\n",
       "          -1.02445550e-01, -8.98125116e-03, -5.05897291e-02,\n",
       "          -6.49432689e-02, -2.59684660e-02, -6.27928153e-02,\n",
       "          -5.74577460e-03,  5.67839332e-02, -1.38317421e-01,\n",
       "          -9.50999856e-02,  1.49705708e-01, -4.08780016e-02,\n",
       "          -9.12318155e-02,  9.28425714e-02, -2.80310716e-02,\n",
       "          -9.68071073e-02, -9.86026227e-03,  2.60908231e-02,\n",
       "           1.07308492e-01, -8.71101022e-02],\n",
       "         [-6.33303225e-02,  5.66808768e-02, -1.31231785e-01,\n",
       "           2.90236976e-02, -9.31045860e-02, -1.26422137e-01,\n",
       "          -1.20841220e-01, -4.34193239e-02,  1.80214401e-02,\n",
       "           1.02727629e-01, -3.53488252e-02,  5.10607734e-02,\n",
       "          -7.46084526e-02, -2.28720554e-03, -1.72994379e-02,\n",
       "           1.37681499e-01,  1.67934224e-02,  1.12722255e-01,\n",
       "           1.30434558e-01, -8.48453492e-03, -1.59568608e-01,\n",
       "           3.48526030e-03,  1.10682510e-01, -1.32666200e-01,\n",
       "          -5.59010543e-02,  1.40655134e-02,  3.65451500e-02,\n",
       "          -8.78935680e-02,  1.03518084e-01, -1.27227157e-01,\n",
       "          -7.71126896e-02, -1.05609680e-02]],\n",
       "\n",
       "        [[-8.61428827e-02,  1.43179968e-01,  1.03220724e-01,\n",
       "          -8.33122954e-02,  5.88487759e-02,  4.60488871e-02,\n",
       "          -4.95404191e-02,  4.65836003e-02, -8.15032274e-02,\n",
       "          -5.85155785e-02,  7.61295184e-02, -1.12599947e-01,\n",
       "          -4.68442068e-02, -9.72833037e-02,  6.84742406e-02,\n",
       "           1.36993557e-01,  1.11156821e-01,  1.08125925e-01,\n",
       "           7.38298073e-02,  1.09647676e-01,  1.28054112e-01,\n",
       "          -8.94022286e-02, -1.13447525e-01, -7.46212229e-02,\n",
       "          -1.63181461e-02, -1.01973690e-01, -1.04003876e-01,\n",
       "           1.17593050e-01, -6.45621214e-03,  8.10552537e-02,\n",
       "           8.42384249e-02, -1.15587920e-01],\n",
       "         [-1.49156362e-01, -8.70178491e-02,  2.70421058e-02,\n",
       "          -1.30386233e-01,  7.87908733e-02, -9.36533138e-02,\n",
       "          -3.08808479e-02, -6.33823648e-02,  1.08501367e-01,\n",
       "           8.00498128e-02,  7.75173232e-02,  1.55021802e-01,\n",
       "           1.02728091e-01, -5.05782068e-02,  7.05416054e-02,\n",
       "          -1.17818847e-01,  7.27050006e-02, -1.46046700e-02,\n",
       "          -9.54439119e-02, -2.08252370e-02, -4.92791226e-03,\n",
       "          -3.25818174e-02,  4.83378917e-02, -9.53681022e-02,\n",
       "          -2.44353861e-02, -9.48003083e-02,  1.14920005e-01,\n",
       "          -1.33919954e-01,  1.32121816e-01, -2.19091736e-02,\n",
       "           7.26103038e-02,  6.82740808e-02],\n",
       "         [-1.31399125e-01,  5.52081242e-02, -1.35550439e-01,\n",
       "          -2.33971421e-02, -1.30240649e-01, -4.11060154e-02,\n",
       "          -1.11940399e-01, -1.42105982e-01,  3.64636183e-02,\n",
       "          -6.99932203e-02,  3.85460295e-02,  1.36085734e-01,\n",
       "          -1.00037821e-01, -1.69173613e-01, -1.42478466e-01,\n",
       "          -2.04949174e-02, -9.15122032e-02,  1.20454714e-01,\n",
       "           8.64562169e-02,  4.59746011e-02, -1.94555093e-02,\n",
       "          -6.93104342e-02,  9.37103666e-03, -5.15269637e-02,\n",
       "          -1.30061448e-01, -1.46893542e-02, -7.37848580e-02,\n",
       "           2.48348080e-02, -1.12427669e-02,  4.39262874e-02,\n",
       "           7.30983820e-03, -7.18697086e-02]],\n",
       "\n",
       "        [[ 2.46602036e-02, -1.80173069e-02, -3.02747078e-02,\n",
       "          -7.15283453e-02, -8.68450105e-02,  9.33531374e-02,\n",
       "           5.73981665e-02,  3.17013338e-02, -1.27409801e-01,\n",
       "           2.41502207e-02, -4.01856080e-02,  8.57874826e-02,\n",
       "          -1.26001928e-02,  3.84394266e-03,  3.77053805e-02,\n",
       "           1.09043740e-01,  4.00600173e-02, -2.11246107e-02,\n",
       "           5.48470824e-04,  5.34709357e-02, -9.37581733e-02,\n",
       "          -8.24714452e-02, -9.26048309e-02,  4.90199476e-02,\n",
       "          -1.03206731e-01,  3.46974209e-02, -9.71181020e-02,\n",
       "          -8.31524283e-03, -1.15347028e-01, -7.04658702e-02,\n",
       "          -1.44609690e-01, -7.73180183e-03],\n",
       "         [-7.72988051e-02,  2.39853486e-02, -6.91449046e-02,\n",
       "           1.09467596e-01,  1.38056189e-01, -4.68560196e-02,\n",
       "          -1.15067638e-01,  1.19194672e-01,  3.91476899e-02,\n",
       "          -1.55909449e-01, -6.96215853e-02, -6.23362921e-02,\n",
       "          -1.15929887e-01,  7.33763576e-02, -5.14049195e-02,\n",
       "          -1.59021556e-01, -1.49530411e-01,  9.91131887e-02,\n",
       "           7.34954551e-02, -1.23230547e-01, -8.61286297e-02,\n",
       "           7.45306835e-02, -4.95786853e-02,  4.04132679e-02,\n",
       "           5.57640418e-02,  2.29662564e-02,  7.72468895e-02,\n",
       "          -7.57111982e-02, -1.12077035e-01, -7.13097006e-02,\n",
       "           4.38626073e-02,  5.98124638e-02],\n",
       "         [ 8.00649077e-02,  8.26838687e-02, -9.90207493e-02,\n",
       "           1.09601021e-01, -9.22379568e-02,  2.13740487e-02,\n",
       "          -1.14580236e-01,  1.12801649e-01,  3.68687548e-02,\n",
       "           5.66528514e-02,  8.73435289e-03, -9.21105668e-02,\n",
       "          -5.11205150e-03,  9.10356641e-02, -1.44240677e-01,\n",
       "           2.32854728e-02, -1.27552152e-01,  9.40074250e-02,\n",
       "          -2.07103789e-02,  1.39027238e-01,  7.68561587e-02,\n",
       "          -6.70511872e-02, -6.31147549e-02, -1.19998910e-01,\n",
       "          -5.09091094e-02, -1.47804782e-01,  1.39030647e-02,\n",
       "          -1.55381439e-02,  1.15081578e-01, -9.94814783e-02,\n",
       "          -1.18223295e-01, -1.70831040e-01]]],\n",
       "\n",
       "\n",
       "       [[[-2.48401216e-03,  7.33356643e-03,  4.16873060e-02,\n",
       "           7.48451725e-02, -6.75445609e-03, -1.34473532e-01,\n",
       "          -1.27075642e-01,  1.12137944e-01, -1.24774054e-01,\n",
       "           1.27786845e-01,  1.22679532e-01, -1.03520945e-01,\n",
       "          -1.39515027e-01,  2.87955105e-02,  1.90769639e-02,\n",
       "          -1.21970037e-02, -1.71064176e-02, -8.77349526e-02,\n",
       "          -5.67057952e-02,  7.43752792e-02, -6.89017400e-02,\n",
       "          -7.70555809e-02,  5.64535242e-03, -1.27973169e-01,\n",
       "           7.34698549e-02, -1.49853364e-01, -5.64275251e-04,\n",
       "           9.49882343e-02,  2.60068011e-02, -6.68002740e-02,\n",
       "           9.23437029e-02, -5.60107306e-02],\n",
       "         [-6.50402084e-02, -3.16250436e-02, -6.96102306e-02,\n",
       "          -1.02833554e-01,  7.40561113e-02, -1.07799182e-02,\n",
       "          -7.94623271e-02, -3.96901853e-02,  7.90811181e-02,\n",
       "           1.03428893e-01,  1.05982311e-01, -7.86175858e-03,\n",
       "           8.01430494e-02, -7.70766661e-02,  3.55783850e-02,\n",
       "           2.78809424e-02,  1.14218779e-01,  9.02915001e-03,\n",
       "           2.15842631e-02,  3.17151137e-02,  4.43785824e-02,\n",
       "          -1.26961246e-01,  6.25101030e-02,  1.15396917e-01,\n",
       "           1.32008269e-01, -2.66653746e-02, -9.60898250e-02,\n",
       "          -1.69618502e-02, -1.39820531e-01, -2.83445278e-03,\n",
       "          -5.12610152e-02, -4.40311730e-02],\n",
       "         [-4.35689874e-02,  4.29997444e-02, -4.81490642e-02,\n",
       "           4.73189317e-02, -5.43548539e-02, -8.42419416e-02,\n",
       "           7.85024017e-02, -1.54441670e-01, -6.51968643e-02,\n",
       "           7.02495649e-02,  6.37530014e-02,  7.39737153e-02,\n",
       "          -1.54168963e-01, -8.81961808e-02,  9.83176529e-02,\n",
       "           3.63319442e-02, -5.58699481e-02,  2.61815470e-02,\n",
       "          -5.27704731e-02,  5.73767759e-02, -6.20135404e-02,\n",
       "           9.25822780e-02, -1.39960423e-01, -1.25325665e-01,\n",
       "          -8.48822370e-02,  1.71598792e-02, -4.23274823e-02,\n",
       "           3.66744213e-02,  2.26563937e-03,  8.62607807e-02,\n",
       "          -8.91519561e-02, -5.21494523e-02]],\n",
       "\n",
       "        [[ 4.34861816e-02, -1.20571375e-01, -1.12284355e-01,\n",
       "          -1.48255765e-01,  1.01609819e-01,  7.32894838e-02,\n",
       "           1.83854885e-02,  5.77411689e-02, -4.77216542e-02,\n",
       "          -9.52589437e-02, -4.79192510e-02, -6.30805939e-02,\n",
       "           3.17355543e-02,  1.06515139e-01, -1.28238248e-02,\n",
       "           9.32877809e-02,  5.43104038e-02,  2.44082864e-02,\n",
       "          -1.11844264e-01, -7.74373636e-02,  1.22499071e-01,\n",
       "           1.27193611e-03,  5.37588932e-02, -9.53125060e-02,\n",
       "           7.27210045e-02, -1.29235744e-01, -1.34526402e-01,\n",
       "           9.95991193e-03,  3.27886529e-02, -1.03743121e-01,\n",
       "           4.28446643e-02, -7.56114200e-02],\n",
       "         [-1.81821287e-02, -1.53454289e-01, -6.19144104e-02,\n",
       "          -6.53767362e-02,  5.10763265e-02,  1.04853533e-01,\n",
       "           2.42836922e-02,  1.19810075e-01, -1.01306744e-01,\n",
       "           9.94803458e-02,  6.06488809e-02, -1.14346966e-02,\n",
       "           5.01625240e-02, -8.81267479e-04, -1.16547473e-01,\n",
       "           4.20737686e-03,  4.49958853e-02,  1.11495592e-01,\n",
       "           1.60268739e-01, -6.53475225e-02, -1.14562146e-01,\n",
       "          -8.32917094e-02,  1.23529851e-01, -7.82862678e-03,\n",
       "          -4.32507657e-02,  5.67808859e-02, -5.80942333e-02,\n",
       "          -5.04263788e-02, -8.80366489e-02,  1.15000956e-01,\n",
       "           7.54515640e-03, -1.20902099e-01],\n",
       "         [-1.68896858e-02, -1.56757101e-01,  1.20563162e-02,\n",
       "          -6.62782090e-03, -2.11056578e-03, -6.99569529e-04,\n",
       "           6.20936677e-02, -1.83098614e-02, -6.60367236e-02,\n",
       "          -1.09999083e-01, -3.88156623e-03,  1.03412727e-02,\n",
       "           9.57805216e-02, -8.99263099e-02,  6.06131032e-02,\n",
       "          -9.49332789e-02,  2.88498346e-02, -4.74044606e-02,\n",
       "           7.85420910e-02, -4.20592949e-02,  2.98199747e-02,\n",
       "          -9.42200795e-02, -8.83583650e-02,  4.67643924e-02,\n",
       "           1.43425629e-01, -1.04431450e-01, -9.44203436e-02,\n",
       "          -6.47960901e-02, -3.14852558e-02,  1.13330171e-01,\n",
       "          -5.03260456e-02,  1.20987035e-01]],\n",
       "\n",
       "        [[-7.20149651e-02, -2.76743844e-02,  9.83457044e-02,\n",
       "          -7.90632665e-02,  2.39413939e-02,  1.35913372e-01,\n",
       "          -1.47170261e-01, -7.22081438e-02,  9.99074057e-02,\n",
       "          -7.55308047e-02,  1.18795551e-01,  5.65872937e-02,\n",
       "          -1.88816395e-02, -5.88797964e-02, -1.27129212e-01,\n",
       "           8.36978257e-02,  2.75164824e-02,  9.85184535e-02,\n",
       "           5.64069673e-02,  1.09839432e-01,  2.86550075e-03,\n",
       "           9.32090133e-02, -5.21991635e-03,  9.36140940e-02,\n",
       "           7.43398117e-03, -2.51849815e-02, -9.42482799e-02,\n",
       "           1.02264658e-01, -1.42065659e-01, -1.34464666e-01,\n",
       "           9.58203152e-02,  1.57198422e-02],\n",
       "         [ 1.26792803e-01, -1.64191797e-01, -1.16836943e-01,\n",
       "           1.21865906e-01, -8.31825510e-02, -3.86126563e-02,\n",
       "          -2.85377819e-03,  9.31262970e-02,  1.35521591e-01,\n",
       "          -1.58074796e-01,  4.11102474e-02,  2.15075742e-02,\n",
       "          -3.91169870e-03,  2.49637552e-02,  1.51442131e-02,\n",
       "          -8.91405642e-02, -1.05746441e-01, -4.35569845e-02,\n",
       "           1.17051795e-01, -6.55507073e-02,  3.47546488e-02,\n",
       "          -1.19405016e-02,  1.06463246e-01,  3.54392664e-03,\n",
       "          -1.30718380e-01,  6.13176003e-02, -9.05028731e-02,\n",
       "           7.70063549e-02,  7.29997382e-02,  5.46064898e-02,\n",
       "          -4.04138453e-02, -6.52655959e-02],\n",
       "         [ 1.24831267e-01, -6.13043271e-02,  1.18374266e-01,\n",
       "          -4.38144468e-02, -4.28485945e-02,  2.03593075e-02,\n",
       "          -8.00266564e-02, -1.26268014e-01,  1.58917323e-01,\n",
       "          -4.04498056e-02,  1.13959812e-01, -3.10516749e-02,\n",
       "          -9.20372084e-02,  1.51607359e-03, -1.28330931e-01,\n",
       "           6.64737597e-02, -9.88422781e-02,  5.66353165e-02,\n",
       "           5.08545004e-02,  6.57356605e-02, -4.90475632e-02,\n",
       "          -6.59504607e-02, -9.74942595e-02,  5.89316748e-02,\n",
       "          -8.12704638e-02,  9.15790051e-02, -3.16758193e-02,\n",
       "          -1.22017239e-03, -3.96714575e-04,  3.29036191e-02,\n",
       "          -2.79880427e-02, -6.81293458e-02]]]], dtype=float32)"
      ]
     },
     "execution_count": 28,
     "metadata": {},
     "output_type": "execute_result"
    }
   ],
   "source": [
    "# weights\n",
    "np.array(model_file['model_weights']['conv2d']['conv2d']['kernel:0'])"
   ]
  },
  {
   "cell_type": "code",
   "execution_count": null,
   "metadata": {},
   "outputs": [],
   "source": []
  }
 ],
 "metadata": {
  "kernelspec": {
   "display_name": "Python 3",
   "language": "python",
   "name": "python3"
  },
  "language_info": {
   "codemirror_mode": {
    "name": "ipython",
    "version": 3
   },
   "file_extension": ".py",
   "mimetype": "text/x-python",
   "name": "python",
   "nbconvert_exporter": "python",
   "pygments_lexer": "ipython3",
   "version": "3.8.3"
  }
 },
 "nbformat": 4,
 "nbformat_minor": 2
}
