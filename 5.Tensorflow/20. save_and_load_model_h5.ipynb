{
 "cells": [
  {
   "cell_type": "markdown",
   "metadata": {},
   "source": [
    "# TensorFlow 2.0"
   ]
  },
  {
   "cell_type": "code",
   "execution_count": 1,
   "metadata": {},
   "outputs": [],
   "source": [
    "import os\n",
    "from glob import glob\n",
    "from datetime import datetime\n",
    "\n",
    "import numpy as np\n",
    "\n",
    "import tensorflow as tf\n",
    "from tensorflow.keras import layers\n",
    "\n",
    "from tensorflow.keras import datasets \n",
    "\n",
    "import matplotlib.pyplot as plt\n",
    "\n",
    "%load_ext tensorboard\n",
    "%matplotlib inline"
   ]
  },
  {
   "cell_type": "markdown",
   "metadata": {},
   "source": [
    "## Hyperparameter Tunning"
   ]
  },
  {
   "cell_type": "code",
   "execution_count": 2,
   "metadata": {},
   "outputs": [],
   "source": [
    "num_epochs = 5\n",
    "batch_size = 32\n",
    "\n",
    "learning_rate = 0.001\n",
    "\n",
    "dropout_rate = 0.5\n",
    "\n",
    "input_shape = (32, 32, 3)\n",
    "num_classes = 10"
   ]
  },
  {
   "cell_type": "markdown",
   "metadata": {},
   "source": [
    "## Build Model"
   ]
  },
  {
   "cell_type": "code",
   "execution_count": 3,
   "metadata": {},
   "outputs": [],
   "source": [
    "inputs = layers.Input(input_shape)\n",
    "\n",
    "net = layers.Conv2D(32, (3, 3), padding='SAME')(inputs)\n",
    "net = layers.Activation('relu')(net)\n",
    "net = layers.Conv2D(32, (3, 3), padding='SAME')(net)\n",
    "net = layers.Activation('relu')(net)\n",
    "net = layers.MaxPooling2D(pool_size=(2, 2))(net)\n",
    "net = layers.Dropout(dropout_rate)(net)\n",
    "\n",
    "net = layers.Conv2D(64, (3, 3), padding='SAME')(net)\n",
    "net = layers.Activation('relu')(net)\n",
    "net = layers.Conv2D(64, (3, 3), padding='SAME')(net)\n",
    "net = layers.Activation('relu')(net)\n",
    "net = layers.MaxPooling2D(pool_size=(2, 2))(net)\n",
    "net = layers.Dropout(dropout_rate)(net)\n",
    "\n",
    "net = layers.Flatten()(net)\n",
    "net = layers.Dense(512)(net)\n",
    "net = layers.Activation('relu')(net)\n",
    "net = layers.Dropout(dropout_rate)(net)\n",
    "net = layers.Dense(num_classes)(net)\n",
    "net = layers.Activation('softmax')(net)\n",
    "\n",
    "model = tf.keras.Model(inputs=inputs, outputs=net, name='Basic_CNN')"
   ]
  },
  {
   "cell_type": "code",
   "execution_count": 4,
   "metadata": {},
   "outputs": [],
   "source": [
    "# Model is the full model w/o custom layers\n",
    "model.compile(optimizer=tf.keras.optimizers.Adam(learning_rate),  # Optimization\n",
    "              loss='sparse_categorical_crossentropy',  # Loss Function \n",
    "              metrics=['accuracy'])  # Metrics / Accuracy"
   ]
  },
  {
   "cell_type": "markdown",
   "metadata": {},
   "source": [
    "# Data Preprocess"
   ]
  },
  {
   "cell_type": "code",
   "execution_count": 5,
   "metadata": {},
   "outputs": [],
   "source": [
    "train_paths = glob('../dataset/cifar/train/*.png')[:100]\n",
    "test_paths = glob('../dataset/cifar/test/*.png')[:100]"
   ]
  },
  {
   "cell_type": "code",
   "execution_count": 6,
   "metadata": {},
   "outputs": [],
   "source": [
    "def get_class_name(path):\n",
    "    return path.split('_')[-1].replace('.png', '')"
   ]
  },
  {
   "cell_type": "code",
   "execution_count": 7,
   "metadata": {},
   "outputs": [],
   "source": [
    "train_labels = [get_class_name(path) for path in train_paths]\n",
    "class_names = np.unique(train_labels)"
   ]
  },
  {
   "cell_type": "code",
   "execution_count": 8,
   "metadata": {},
   "outputs": [],
   "source": [
    "def get_label(path):\n",
    "    fname = tf.strings.split(path, '_')[-1]\n",
    "    lbl_name = tf.strings.regex_replace(fname, '.png', '')\n",
    "    onehot = tf.cast(lbl_name == class_names, tf.uint8)\n",
    "    return tf.argmax(onehot)  # 이번에는 onehot이 아닌 label 번호로"
   ]
  },
  {
   "cell_type": "code",
   "execution_count": 9,
   "metadata": {},
   "outputs": [],
   "source": [
    "def load_image_label(path):\n",
    "    gfile = tf.io.read_file(path)\n",
    "    image = tf.io.decode_image(gfile)\n",
    "    image = tf.cast(image, tf.float32) / 255.  # rescale\n",
    "    \n",
    "    label = get_label(path)\n",
    "    return image, label"
   ]
  },
  {
   "cell_type": "code",
   "execution_count": 10,
   "metadata": {},
   "outputs": [],
   "source": [
    "def image_preprocess(image, label):\n",
    "    image = tf.image.random_flip_up_down(image)\n",
    "    image = tf.image.random_flip_left_right(image)\n",
    "    return image, label"
   ]
  },
  {
   "cell_type": "code",
   "execution_count": 11,
   "metadata": {},
   "outputs": [],
   "source": [
    "AUTOTUNE = tf.data.experimental.AUTOTUNE"
   ]
  },
  {
   "cell_type": "code",
   "execution_count": 12,
   "metadata": {
    "scrolled": false
   },
   "outputs": [],
   "source": [
    "train_dataset = tf.data.Dataset.from_tensor_slices(train_paths)\n",
    "train_dataset = train_dataset.map(load_image_label, num_parallel_calls=AUTOTUNE)\n",
    "train_dataset = train_dataset.map(image_preprocess, num_parallel_calls=AUTOTUNE)\n",
    "train_dataset = train_dataset.batch(batch_size)\n",
    "train_dataset = train_dataset.shuffle(buffer_size=len(train_paths))\n",
    "train_dataset = train_dataset.repeat()"
   ]
  },
  {
   "cell_type": "code",
   "execution_count": 13,
   "metadata": {},
   "outputs": [],
   "source": [
    "test_dataset = tf.data.Dataset.from_tensor_slices(test_paths)\n",
    "test_dataset = test_dataset.map(load_image_label, num_parallel_calls=AUTOTUNE)\n",
    "test_dataset = test_dataset.batch(batch_size)\n",
    "test_dataset = test_dataset.repeat()"
   ]
  },
  {
   "cell_type": "markdown",
   "metadata": {},
   "source": [
    "# Checkpoint"
   ]
  },
  {
   "cell_type": "code",
   "execution_count": 14,
   "metadata": {},
   "outputs": [],
   "source": [
    "save_path = 'ckpt'"
   ]
  },
  {
   "cell_type": "code",
   "execution_count": 15,
   "metadata": {},
   "outputs": [],
   "source": [
    "checkpoint = tf.keras.callbacks.ModelCheckpoint(save_path, monitor='val_accuracy', verbose=1, save_best_only=True, mode='max')"
   ]
  },
  {
   "cell_type": "markdown",
   "metadata": {},
   "source": [
    "## Training"
   ]
  },
  {
   "cell_type": "markdown",
   "metadata": {},
   "source": [
    "http://localhost:6006"
   ]
  },
  {
   "cell_type": "code",
   "execution_count": 16,
   "metadata": {},
   "outputs": [
    {
     "name": "stdout",
     "output_type": "stream",
     "text": [
      "WARNING:tensorflow:From <ipython-input-16-99c46a25b730>:4: Model.fit_generator (from tensorflow.python.keras.engine.training) is deprecated and will be removed in a future version.\n",
      "Instructions for updating:\n",
      "Please use Model.fit, which supports generators.\n",
      "Epoch 1/5\n",
      "3/3 [==============================] - ETA: 0s - loss: 2.4774 - accuracy: 0.0294  \n",
      "Epoch 00001: val_accuracy improved from -inf to 0.05208, saving model to ckpt\n",
      "WARNING:tensorflow:From C:\\ProgramData\\Anaconda3\\lib\\site-packages\\tensorflow\\python\\training\\tracking\\tracking.py:111: Model.state_updates (from tensorflow.python.keras.engine.training) is deprecated and will be removed in a future version.\n",
      "Instructions for updating:\n",
      "This property should not be used in TensorFlow 2.0, as updates are applied automatically.\n",
      "WARNING:tensorflow:From C:\\ProgramData\\Anaconda3\\lib\\site-packages\\tensorflow\\python\\training\\tracking\\tracking.py:111: Layer.updates (from tensorflow.python.keras.engine.base_layer) is deprecated and will be removed in a future version.\n",
      "Instructions for updating:\n",
      "This property should not be used in TensorFlow 2.0, as updates are applied automatically.\n",
      "INFO:tensorflow:Assets written to: ckpt\\assets\n",
      "3/3 [==============================] - 7s 2s/step - loss: 2.4774 - accuracy: 0.0294 - val_loss: 2.3329 - val_accuracy: 0.0521\n",
      "Epoch 2/5\n",
      "3/3 [==============================] - ETA: 0s - loss: 2.2940 - accuracy: 0.1458\n",
      "Epoch 00002: val_accuracy improved from 0.05208 to 0.11458, saving model to ckpt\n",
      "INFO:tensorflow:Assets written to: ckpt\\assets\n",
      "3/3 [==============================] - 7s 2s/step - loss: 2.2940 - accuracy: 0.1458 - val_loss: 2.3039 - val_accuracy: 0.1146\n",
      "Epoch 3/5\n",
      "3/3 [==============================] - ETA: 0s - loss: 2.3385 - accuracy: 0.1250  \n",
      "Epoch 00003: val_accuracy did not improve from 0.11458\n",
      "3/3 [==============================] - 1s 211ms/step - loss: 2.3385 - accuracy: 0.1250 - val_loss: 2.3024 - val_accuracy: 0.0938\n",
      "Epoch 4/5\n",
      "3/3 [==============================] - ETA: 0s - loss: 2.2913 - accuracy: 0.1458\n",
      "Epoch 00004: val_accuracy did not improve from 0.11458\n",
      "3/3 [==============================] - 1s 231ms/step - loss: 2.2913 - accuracy: 0.1458 - val_loss: 2.3037 - val_accuracy: 0.0729\n",
      "Epoch 5/5\n",
      "3/3 [==============================] - ETA: 0s - loss: 2.2900 - accuracy: 0.1667\n",
      "Epoch 00005: val_accuracy did not improve from 0.11458\n",
      "3/3 [==============================] - 1s 230ms/step - loss: 2.2900 - accuracy: 0.1667 - val_loss: 2.3041 - val_accuracy: 0.0729\n"
     ]
    }
   ],
   "source": [
    "steps_per_epoch = len(train_paths) // batch_size\n",
    "validation_steps = len(test_paths) // batch_size\n",
    "\n",
    "history = model.fit_generator(\n",
    "    train_dataset,\n",
    "    steps_per_epoch=steps_per_epoch,\n",
    "    validation_data=test_dataset,\n",
    "    validation_steps=validation_steps,\n",
    "    epochs=num_epochs, \n",
    "    callbacks=[checkpoint]\n",
    ")"
   ]
  },
  {
   "cell_type": "markdown",
   "metadata": {},
   "source": [
    "# Saving Model"
   ]
  },
  {
   "cell_type": "code",
   "execution_count": 17,
   "metadata": {},
   "outputs": [],
   "source": [
    "save_path = 'my_model.h5'"
   ]
  },
  {
   "cell_type": "code",
   "execution_count": 18,
   "metadata": {},
   "outputs": [],
   "source": [
    "# Save the model architecture and the weights\n",
    "model.save(save_path, include_optimizer=True)"
   ]
  },
  {
   "cell_type": "code",
   "execution_count": 19,
   "metadata": {},
   "outputs": [],
   "source": [
    "# Load the model architecture and the weights\n",
    "model = tf.keras.models.load_model('my_model.h5')"
   ]
  },
  {
   "cell_type": "code",
   "execution_count": null,
   "metadata": {},
   "outputs": [],
   "source": []
  },
  {
   "cell_type": "markdown",
   "metadata": {},
   "source": [
    "# Saving Model - 2"
   ]
  },
  {
   "cell_type": "code",
   "execution_count": 20,
   "metadata": {},
   "outputs": [],
   "source": [
    "# Save the weights\n",
    "model.save_weights('model_weights.h5')\n",
    "\n",
    "# Save the model architecture\n",
    "with open('model_architecture.json', 'w') as f:\n",
    "    f.write(model.to_json())"
   ]
  },
  {
   "cell_type": "code",
   "execution_count": 21,
   "metadata": {},
   "outputs": [],
   "source": [
    "from tensorflow.keras.models import model_from_json\n",
    "\n",
    "# Model reconstruction from JSON file\n",
    "with open('model_architecture.json', 'r') as f:\n",
    "    model = model_from_json(f.read())\n",
    "\n",
    "# Load weights into the new model\n",
    "model.load_weights('model_weights.h5')"
   ]
  },
  {
   "cell_type": "markdown",
   "metadata": {},
   "source": [
    "# model.h5 들여다보기"
   ]
  },
  {
   "cell_type": "code",
   "execution_count": 22,
   "metadata": {},
   "outputs": [],
   "source": [
    "import h5py\n",
    "\n",
    "model_file = h5py.File('my_model.h5','r+')    "
   ]
  },
  {
   "cell_type": "code",
   "execution_count": 23,
   "metadata": {},
   "outputs": [
    {
     "data": {
      "text/plain": [
       "<KeysViewHDF5 ['model_weights', 'optimizer_weights']>"
      ]
     },
     "execution_count": 23,
     "metadata": {},
     "output_type": "execute_result"
    }
   ],
   "source": [
    "model_file.keys()"
   ]
  },
  {
   "cell_type": "code",
   "execution_count": 24,
   "metadata": {},
   "outputs": [
    {
     "data": {
      "text/plain": [
       "<KeysViewHDF5 ['activation', 'activation_1', 'activation_2', 'activation_3', 'activation_4', 'activation_5', 'conv2d', 'conv2d_1', 'conv2d_2', 'conv2d_3', 'dense', 'dense_1', 'dropout', 'dropout_1', 'dropout_2', 'flatten', 'input_1', 'max_pooling2d', 'max_pooling2d_1']>"
      ]
     },
     "execution_count": 24,
     "metadata": {},
     "output_type": "execute_result"
    }
   ],
   "source": [
    "model_file['model_weights'].keys()"
   ]
  },
  {
   "cell_type": "code",
   "execution_count": 25,
   "metadata": {},
   "outputs": [
    {
     "data": {
      "text/plain": [
       "<KeysViewHDF5 ['bias:0', 'kernel:0']>"
      ]
     },
     "execution_count": 25,
     "metadata": {},
     "output_type": "execute_result"
    }
   ],
   "source": [
    "model_file['model_weights']['conv2d']['conv2d'].keys()"
   ]
  },
  {
   "cell_type": "code",
   "execution_count": 26,
   "metadata": {},
   "outputs": [
    {
     "data": {
      "text/plain": [
       "<HDF5 dataset \"kernel:0\": shape (3, 3, 3, 32), type \"<f4\">"
      ]
     },
     "execution_count": 26,
     "metadata": {},
     "output_type": "execute_result"
    }
   ],
   "source": [
    "model_file['model_weights']['conv2d']['conv2d']['kernel:0']"
   ]
  },
  {
   "cell_type": "code",
   "execution_count": 27,
   "metadata": {},
   "outputs": [
    {
     "data": {
      "text/plain": [
       "array([[[[-4.53572646e-02, -5.29546551e-02, -4.70103137e-02,\n",
       "          -2.26996746e-02, -1.19820349e-01, -1.90702975e-02,\n",
       "          -6.38691336e-02,  1.15602724e-01, -1.36030912e-01,\n",
       "           3.71177308e-02,  1.27868757e-01, -5.85133396e-02,\n",
       "          -1.34819880e-01, -3.17175463e-02, -2.09058113e-02,\n",
       "          -3.72474790e-02,  2.31237859e-02, -1.13544741e-03,\n",
       "          -1.14658915e-01,  1.17151961e-01,  6.07927479e-02,\n",
       "          -1.74229201e-02, -4.69665155e-02, -5.50862178e-02,\n",
       "           1.90830845e-02,  1.08348876e-01, -6.69986606e-02,\n",
       "          -2.67529693e-02,  1.29916951e-01, -6.03243187e-02,\n",
       "           4.51796204e-02, -2.92180572e-02],\n",
       "         [-1.24626748e-01, -1.20233782e-01, -3.13271806e-02,\n",
       "          -8.92756283e-02, -9.98244882e-02,  6.56903535e-02,\n",
       "           5.22852056e-02,  6.96137771e-02, -1.18468821e-01,\n",
       "          -9.27053764e-02,  1.38334766e-01,  6.99368566e-02,\n",
       "           9.13650021e-02, -7.35178366e-02,  3.28786857e-02,\n",
       "          -1.87299470e-03, -2.37283465e-02, -2.28207503e-02,\n",
       "          -1.29778646e-02,  2.02751812e-02, -8.79681855e-02,\n",
       "          -9.71329585e-02, -1.31611511e-01, -3.00838705e-02,\n",
       "          -6.27035424e-02, -3.53046358e-02, -9.67052057e-02,\n",
       "           7.26159960e-02,  1.15674593e-01,  8.50940645e-02,\n",
       "          -6.70054555e-02,  4.19261120e-02],\n",
       "         [-1.38731018e-01,  6.57664007e-03, -1.19354747e-01,\n",
       "          -2.41625570e-02,  1.14070825e-01, -4.05438291e-03,\n",
       "          -4.60130088e-02,  4.35994472e-03, -1.66617669e-02,\n",
       "           8.86106342e-02,  1.10340536e-01,  2.96670124e-02,\n",
       "           1.95725914e-02, -1.16359659e-01, -1.06118716e-01,\n",
       "          -9.80198458e-02, -8.94936547e-02, -1.06092483e-01,\n",
       "           8.24357383e-03,  1.05731569e-01,  1.06619075e-02,\n",
       "          -1.12135135e-01,  6.99715540e-02,  3.90154347e-02,\n",
       "           8.28230008e-02, -7.04853386e-02,  1.27653360e-01,\n",
       "           1.20724961e-01, -4.20150384e-02, -8.74701589e-02,\n",
       "          -7.41456077e-02, -9.21261013e-02]],\n",
       "\n",
       "        [[ 4.50894199e-02,  8.89054872e-03, -1.39317870e-01,\n",
       "           1.38980115e-03,  1.50400549e-02,  1.05785564e-01,\n",
       "          -1.24936044e-01, -1.03156328e-01, -1.24866799e-01,\n",
       "           1.28223479e-01, -1.21302925e-01, -5.35051785e-02,\n",
       "          -5.15214242e-02,  1.12644315e-01,  2.97742486e-02,\n",
       "           1.19262464e-01, -2.23158002e-02, -4.43444438e-02,\n",
       "          -2.54253764e-02, -1.18950449e-01, -1.16530545e-01,\n",
       "           1.02725834e-01, -3.09200734e-02, -6.38343319e-02,\n",
       "           2.02930309e-02, -1.07361719e-01, -6.08809001e-04,\n",
       "          -7.22323060e-02,  6.75770640e-02, -7.07714781e-02,\n",
       "           1.13834301e-03,  7.99957588e-02],\n",
       "         [ 1.09801784e-01,  6.36099055e-02,  4.70438451e-02,\n",
       "          -8.24282169e-02, -8.00769180e-02,  1.26603082e-01,\n",
       "          -2.50473600e-02, -9.96517297e-03,  5.77371642e-02,\n",
       "          -1.82169583e-02,  2.98578329e-02,  5.34198023e-02,\n",
       "          -6.89295232e-02,  1.30039871e-01, -1.23987533e-01,\n",
       "           1.06729671e-01,  1.34612918e-01,  8.61803740e-02,\n",
       "          -1.54656107e-02,  7.84890130e-02,  1.30728245e-01,\n",
       "          -1.36733487e-01, -2.12059692e-02,  1.31450638e-01,\n",
       "           1.21806450e-01, -6.65216297e-02,  2.04152446e-02,\n",
       "           7.71156102e-02,  7.91959688e-02, -1.44428164e-01,\n",
       "          -3.65589447e-02, -2.66191456e-02],\n",
       "         [ 1.12020224e-01,  8.43478888e-02,  4.95089330e-02,\n",
       "           4.71008420e-02, -5.22678904e-02,  9.27344859e-02,\n",
       "          -5.03929518e-02, -2.36990340e-02,  1.75892040e-02,\n",
       "          -2.69738007e-02, -1.04464412e-01,  7.30965957e-02,\n",
       "          -5.34604900e-02, -5.39326556e-02, -1.11294463e-01,\n",
       "           3.90764177e-02, -8.59131366e-02,  7.37099722e-02,\n",
       "           1.26314342e-01,  1.16448201e-01, -1.25853747e-01,\n",
       "          -2.45099864e-03, -1.22879572e-01, -4.33040522e-02,\n",
       "          -1.25084460e-01,  6.29477575e-03, -1.04775675e-01,\n",
       "          -7.02091232e-02,  1.20377325e-01, -1.02182508e-01,\n",
       "           1.31814554e-01,  9.54213217e-02]],\n",
       "\n",
       "        [[ 4.78320643e-02,  5.78189418e-02, -3.49486358e-02,\n",
       "          -6.15840256e-02,  5.10055162e-02,  7.32220784e-02,\n",
       "           1.18542694e-01,  1.30928591e-01, -1.14050597e-01,\n",
       "           8.99008885e-02,  3.37585658e-02,  9.98532847e-02,\n",
       "          -3.77174690e-02,  1.19387694e-01, -4.90550185e-03,\n",
       "           5.17625250e-02,  4.79923338e-02,  1.61254797e-02,\n",
       "          -9.30821970e-02, -1.08799368e-01, -4.51408736e-02,\n",
       "          -3.55599076e-02, -1.21412553e-01,  1.04702830e-01,\n",
       "           1.09758519e-01, -4.18301346e-03, -6.90324679e-02,\n",
       "          -5.79885915e-02,  1.05932333e-01, -2.51102902e-05,\n",
       "           5.96073940e-02, -1.23059675e-01],\n",
       "         [-2.45494209e-02,  8.48085731e-02,  1.34610340e-01,\n",
       "          -2.39691474e-02, -6.59518410e-03, -1.24799386e-01,\n",
       "           1.21270828e-01, -9.77754518e-02,  5.79393916e-02,\n",
       "           2.02523619e-02, -7.69933015e-02,  2.91392040e-02,\n",
       "           5.97302131e-02,  6.95949271e-02, -1.02996277e-02,\n",
       "          -4.99483943e-02, -1.13408059e-01, -6.09581470e-02,\n",
       "           6.72101825e-02,  7.93011263e-02,  4.50767949e-02,\n",
       "          -6.01059757e-02, -4.85860668e-02, -1.31941602e-01,\n",
       "           3.58397253e-02,  1.12165853e-01,  3.33403167e-03,\n",
       "           3.37225758e-02,  8.01060200e-02,  1.20427765e-01,\n",
       "          -1.30308211e-01, -9.10866857e-02],\n",
       "         [-5.75238131e-02,  7.81331882e-02, -8.49028006e-02,\n",
       "          -2.80446932e-03,  2.03742515e-02,  7.13650286e-02,\n",
       "           5.71479872e-02,  7.05587417e-02, -1.27698287e-01,\n",
       "          -8.09457079e-02, -4.48637530e-02,  1.15420274e-01,\n",
       "           3.67713086e-02,  1.02144368e-01, -1.38204128e-01,\n",
       "          -5.11026531e-02, -1.18668400e-01, -6.91961870e-02,\n",
       "           9.37143564e-02, -6.69944733e-02, -1.16969824e-01,\n",
       "           4.06127609e-02,  1.03888772e-01, -1.16506018e-01,\n",
       "          -3.56317088e-02, -3.69260386e-02, -1.05271079e-01,\n",
       "          -2.37105275e-03, -4.40244712e-02, -3.82930413e-03,\n",
       "           5.39402291e-02, -3.54814492e-02]]],\n",
       "\n",
       "\n",
       "       [[[ 2.89069768e-02, -2.95130052e-02, -5.65648228e-02,\n",
       "          -8.94624926e-03, -7.86743015e-02,  8.50007758e-02,\n",
       "          -1.28738612e-01,  1.26516998e-01, -4.10242677e-02,\n",
       "          -1.22763857e-01,  2.34193895e-02, -4.75105345e-02,\n",
       "           7.84613937e-02, -5.02476394e-02, -1.03807405e-01,\n",
       "           1.27299622e-01,  4.06389982e-02,  1.21121459e-01,\n",
       "          -8.34653974e-02,  7.47224391e-02,  8.04433897e-02,\n",
       "           4.50084507e-02,  1.36510193e-01,  5.69085367e-02,\n",
       "          -8.58069807e-02, -5.13660535e-02,  5.87099381e-02,\n",
       "           9.01189446e-02,  3.30510587e-02, -4.68902178e-02,\n",
       "          -8.16047564e-02, -9.01683234e-03],\n",
       "         [-1.35494605e-01, -1.86812021e-02,  1.91383082e-02,\n",
       "           1.09846026e-01, -5.99207506e-02,  5.47215380e-02,\n",
       "          -1.26830414e-01,  1.39298484e-01,  1.08949408e-01,\n",
       "           8.88836905e-02,  2.90674921e-02, -8.54193866e-02,\n",
       "           3.56313922e-02, -5.83595559e-02, -4.44445089e-02,\n",
       "           6.42130822e-02,  1.17055058e-01, -1.10294029e-01,\n",
       "           7.62029886e-02, -3.59717086e-02, -3.05509605e-02,\n",
       "           3.51249147e-03,  4.99438010e-02, -4.12563346e-02,\n",
       "          -6.97155222e-02,  1.10124044e-01, -1.21440515e-01,\n",
       "          -1.00148572e-02,  3.24927978e-02, -8.55821595e-02,\n",
       "           5.38798831e-02, -8.80357251e-02],\n",
       "         [ 1.29659936e-01,  9.96413603e-02,  7.51064196e-02,\n",
       "           7.91902989e-02, -2.26260498e-02,  1.12158790e-01,\n",
       "          -1.84845924e-02, -1.32153779e-01, -5.72704338e-02,\n",
       "          -1.37589067e-01,  6.70040399e-02, -1.09125182e-01,\n",
       "          -8.88213441e-02, -2.10232399e-02, -8.31515044e-02,\n",
       "          -1.20445460e-01, -5.62264584e-02,  4.66482751e-02,\n",
       "          -9.07554403e-02,  1.05350442e-01,  1.97374616e-02,\n",
       "           1.53973661e-02, -1.10560469e-01, -9.26076472e-02,\n",
       "          -2.53290031e-02, -7.47930706e-02,  1.42426312e-01,\n",
       "          -7.96979666e-02,  7.60797784e-02,  1.15105815e-01,\n",
       "           5.92782386e-02,  1.28397539e-01]],\n",
       "\n",
       "        [[ 1.19821377e-01,  6.94113830e-03, -7.63675272e-02,\n",
       "           4.71377186e-02, -9.05564204e-02, -1.96810346e-02,\n",
       "           3.10008489e-02,  9.12797749e-02,  6.69095963e-02,\n",
       "           3.67609113e-02, -7.05737919e-02,  8.47941861e-02,\n",
       "          -4.75904569e-02,  3.14648114e-02, -9.44926366e-02,\n",
       "           6.56400099e-02, -4.46884967e-02, -5.42586716e-03,\n",
       "           5.97662292e-02, -1.03294596e-01, -4.47337963e-02,\n",
       "          -4.97190952e-02,  8.16539153e-02,  1.02665201e-01,\n",
       "          -9.59845930e-02,  1.09285727e-01,  6.10101968e-03,\n",
       "           1.37141451e-01, -1.38894498e-01,  2.30208505e-02,\n",
       "           1.13330804e-01, -8.36643949e-03],\n",
       "         [ 1.22660305e-02,  7.37764537e-02,  1.13062732e-01,\n",
       "          -3.66364308e-02, -3.22049111e-02,  7.81178698e-02,\n",
       "          -1.13318525e-01,  4.90558408e-02, -4.88658100e-02,\n",
       "           7.34020174e-02, -1.23006947e-01,  4.54271771e-02,\n",
       "          -4.13227677e-02, -3.76807526e-02,  7.82005191e-02,\n",
       "           1.28184557e-01,  1.30154818e-01,  2.06252448e-02,\n",
       "           6.74069375e-02,  2.24324167e-02, -9.58480611e-02,\n",
       "           1.27101585e-01, -9.15298015e-02,  1.03338785e-01,\n",
       "           7.01184347e-02, -1.57385916e-02, -8.03238228e-02,\n",
       "          -1.27219334e-01,  2.65958160e-02, -1.35155857e-01,\n",
       "          -4.26846407e-02,  1.99062470e-02],\n",
       "         [-1.11513354e-01,  8.63830596e-02,  4.68226522e-02,\n",
       "           8.52500349e-02,  6.67592958e-02,  7.68590579e-03,\n",
       "           1.21379107e-01,  5.55809401e-02,  1.06771909e-01,\n",
       "          -1.37776166e-01, -9.13884044e-02, -1.10798433e-01,\n",
       "           2.65007131e-02, -1.35211378e-01, -4.55131307e-02,\n",
       "          -1.10141031e-01, -7.99603686e-02,  6.19992092e-02,\n",
       "           7.22759217e-02,  9.69125181e-02,  1.25670776e-01,\n",
       "           1.04287587e-01,  3.11112627e-02, -1.05285615e-01,\n",
       "           8.33610296e-02, -7.97482952e-02,  1.09779827e-01,\n",
       "           9.70957950e-02, -1.05765373e-01,  1.24887563e-01,\n",
       "          -1.38120234e-01,  9.08165500e-02]],\n",
       "\n",
       "        [[ 1.20705992e-01, -8.60005841e-02, -3.52003723e-02,\n",
       "           7.87315890e-02,  1.19441986e-01, -2.85358112e-02,\n",
       "          -2.47423165e-02, -7.82866776e-02,  8.21292847e-02,\n",
       "          -3.31172459e-02,  1.54419467e-02,  6.66406378e-02,\n",
       "           5.49984090e-02,  4.18689139e-02, -1.11033656e-01,\n",
       "          -6.52285153e-03, -4.29189131e-02, -1.03654303e-02,\n",
       "           1.07936367e-01,  3.73184085e-02,  1.33224308e-01,\n",
       "           5.83222732e-02, -9.82518792e-02,  1.11291803e-01,\n",
       "          -1.72997396e-02,  1.33090615e-01,  8.91300663e-02,\n",
       "          -8.38766340e-03,  3.40153500e-02, -1.38632402e-01,\n",
       "           7.23666558e-03, -2.42271777e-02],\n",
       "         [ 5.99472150e-02,  4.66911122e-02, -6.91071302e-02,\n",
       "           4.43576500e-02, -8.35159644e-02, -2.20089825e-03,\n",
       "           3.30663398e-02,  1.38532996e-01,  1.27536818e-01,\n",
       "           8.70999321e-02, -9.43749100e-02, -3.19610052e-02,\n",
       "          -7.51463771e-02,  1.04878992e-01, -1.95954200e-02,\n",
       "          -1.09172471e-01, -2.36288961e-02,  1.31223902e-01,\n",
       "          -9.84732620e-03,  7.22342953e-02,  6.14627972e-02,\n",
       "          -5.26594780e-02, -1.30800232e-01, -5.18725403e-02,\n",
       "           4.72177938e-03,  8.71110766e-04, -1.20320216e-01,\n",
       "           1.06150024e-01,  7.37218335e-02, -8.72207060e-02,\n",
       "           1.33603662e-01, -2.27707531e-02],\n",
       "         [-2.95551922e-02,  4.55289111e-02,  9.92055908e-02,\n",
       "          -3.76324132e-02, -1.33273438e-01, -1.25629991e-01,\n",
       "          -1.21077098e-01, -1.23843737e-01, -1.38420716e-01,\n",
       "          -1.09132513e-01,  5.78314858e-03,  3.00708339e-02,\n",
       "           9.18774679e-02,  1.00435000e-02, -1.34758547e-01,\n",
       "          -1.19075835e-01,  1.43037513e-01, -7.46716280e-03,\n",
       "           3.46169025e-02,  4.85400632e-02,  1.34329155e-01,\n",
       "           1.29704893e-01, -9.49374363e-02,  5.32904975e-02,\n",
       "           1.34115830e-01,  2.66427528e-02, -5.31729944e-02,\n",
       "          -7.28679150e-02, -6.97809234e-02, -1.23311624e-01,\n",
       "          -8.45727250e-02, -6.59734234e-02]]],\n",
       "\n",
       "\n",
       "       [[[-1.89185468e-03,  1.08294882e-01,  1.14499189e-01,\n",
       "          -9.92684439e-02, -2.12415904e-02, -9.11986157e-02,\n",
       "           1.23080097e-01, -1.33743703e-01,  2.89504807e-02,\n",
       "           5.72877787e-02, -1.16172303e-02,  1.23636581e-01,\n",
       "          -5.43178245e-02,  5.34872152e-02, -3.85138020e-02,\n",
       "           8.25382844e-02,  3.95174231e-03, -1.13450922e-01,\n",
       "          -4.01708893e-02, -7.48336390e-02,  1.24422729e-01,\n",
       "           1.09460622e-01,  1.26582235e-01,  1.84557110e-03,\n",
       "          -1.20106600e-01,  3.74493562e-02, -4.36591655e-02,\n",
       "           3.53265852e-02,  4.07144949e-02, -8.15901309e-02,\n",
       "           4.73471126e-03, -6.31324276e-02],\n",
       "         [-1.32017106e-01,  3.07796486e-02,  6.40268326e-02,\n",
       "           1.31321669e-01, -8.33258927e-02, -6.92715645e-02,\n",
       "           1.54917231e-02, -8.79972652e-02,  7.97313824e-02,\n",
       "           1.12566717e-01,  5.52192107e-02, -5.15538640e-02,\n",
       "          -9.97358039e-02, -1.23927765e-01, -1.20101169e-01,\n",
       "           1.37612656e-01,  1.39278889e-01, -5.47827929e-02,\n",
       "          -1.26726940e-01, -1.15658157e-01,  7.16338232e-02,\n",
       "          -4.62734187e-03, -4.63032685e-02,  5.72989136e-02,\n",
       "           3.48192006e-02,  7.44040608e-02,  6.95007518e-02,\n",
       "          -1.24628507e-01,  1.28920555e-01,  1.10985719e-01,\n",
       "          -5.30622415e-02, -3.92640941e-02],\n",
       "         [ 8.74677114e-03,  1.22383542e-01,  1.17117919e-01,\n",
       "           8.68249461e-02, -1.23715676e-01,  4.55252677e-02,\n",
       "           1.32680535e-01, -4.88679484e-02,  1.24061100e-01,\n",
       "           1.23889334e-01, -3.69885843e-03, -1.03952354e-02,\n",
       "          -5.33967465e-02, -1.07988186e-01,  6.36198148e-02,\n",
       "          -1.78966820e-02,  7.59844631e-02, -4.21588495e-02,\n",
       "          -8.95937067e-03,  5.06334268e-02, -5.62603027e-02,\n",
       "          -8.01917464e-02, -3.58256288e-02,  5.99978566e-02,\n",
       "           4.55872975e-02,  4.86698970e-02, -4.77801897e-02,\n",
       "          -1.38813153e-01,  6.83562383e-02,  8.81127045e-02,\n",
       "           1.03919543e-01,  7.14119449e-02]],\n",
       "\n",
       "        [[-1.27247497e-01,  3.11904438e-02, -4.91580889e-02,\n",
       "          -1.35230348e-01,  8.43900964e-02, -1.15397880e-02,\n",
       "           9.67682824e-02, -9.87143368e-02,  5.28178476e-02,\n",
       "          -1.36942327e-01, -4.72271144e-02,  1.16081007e-01,\n",
       "           8.45755041e-02,  1.79201737e-02, -7.82036930e-02,\n",
       "           1.40343502e-01, -1.29815891e-01,  9.81292874e-02,\n",
       "           2.23268755e-02, -4.48249616e-02, -3.42058465e-02,\n",
       "          -9.14484784e-02, -9.10004154e-02, -6.38976842e-02,\n",
       "           6.83302945e-03, -6.68774620e-02,  6.03938177e-02,\n",
       "          -2.30229814e-02,  3.97038274e-02, -6.68599852e-04,\n",
       "           1.43288486e-02,  5.18884398e-02],\n",
       "         [-7.03213960e-02,  1.26920536e-01,  9.54320133e-02,\n",
       "           5.39776236e-02, -1.83256622e-02,  6.26327423e-03,\n",
       "          -3.57591212e-02, -8.25765729e-02,  1.33575022e-01,\n",
       "           6.37539774e-02,  1.41534925e-01,  1.23078547e-01,\n",
       "          -5.86729906e-02,  7.26391301e-02, -1.56345367e-02,\n",
       "          -1.17282838e-01,  9.03760418e-02, -5.35425544e-03,\n",
       "          -6.34593219e-02, -1.31670043e-01,  4.29836549e-02,\n",
       "          -5.14735207e-02, -7.18414262e-02, -3.31053324e-02,\n",
       "           7.92660043e-02, -1.03039801e-01, -5.47382645e-02,\n",
       "          -8.59055594e-02,  8.17673504e-02, -3.33897327e-03,\n",
       "           9.70777124e-02, -1.41896289e-02],\n",
       "         [-6.65937141e-02,  2.98791863e-02,  7.54745826e-02,\n",
       "           1.31019667e-01, -1.39529064e-01,  9.79481339e-02,\n",
       "           1.30064428e-01, -6.17804118e-02, -1.91258416e-02,\n",
       "           1.18292719e-01, -1.05967503e-02, -1.18692607e-01,\n",
       "           8.05979818e-02,  2.00928748e-02,  3.55073735e-02,\n",
       "          -3.89007442e-02, -1.28608957e-01, -1.81882624e-02,\n",
       "           6.59043416e-02,  1.22581713e-01,  1.33509234e-01,\n",
       "          -3.43582481e-02, -8.50012675e-02, -5.34827337e-02,\n",
       "          -1.05051316e-01, -1.30200595e-01, -3.97793204e-02,\n",
       "           1.93658322e-02,  2.51716692e-02,  3.99850942e-02,\n",
       "          -5.13206348e-02, -8.21026936e-02]],\n",
       "\n",
       "        [[ 1.42212892e-02, -1.25743419e-01, -9.17111263e-02,\n",
       "          -5.18037640e-02, -1.15999244e-01, -3.17897871e-02,\n",
       "          -9.83195007e-02, -1.26740381e-01,  8.02139565e-03,\n",
       "           1.02236964e-01, -6.09330572e-02, -1.00157581e-01,\n",
       "          -1.67246666e-02,  2.06829291e-02,  1.20168738e-01,\n",
       "           1.12498784e-02,  1.07028715e-01, -6.89229071e-02,\n",
       "           3.65599766e-02,  8.86426121e-03,  1.32223321e-02,\n",
       "          -7.67919421e-02,  2.16940995e-02,  3.97795774e-02,\n",
       "          -1.28145456e-01, -1.15837738e-01,  6.85508102e-02,\n",
       "           2.34187804e-02, -1.40744612e-01,  1.03925824e-01,\n",
       "          -7.61052081e-03,  9.01159868e-02],\n",
       "         [ 2.47901957e-02,  2.67442539e-02, -1.17027640e-01,\n",
       "           1.16946474e-01,  9.42905024e-02,  2.07423586e-02,\n",
       "           4.96294610e-02, -6.73355833e-02,  7.91528746e-02,\n",
       "          -1.08885048e-02,  6.23112172e-02,  3.40183242e-03,\n",
       "           1.30627185e-01, -1.05225399e-01, -4.50680703e-02,\n",
       "          -1.28758445e-01, -2.35215183e-02,  6.18122630e-02,\n",
       "          -2.75249556e-02,  7.29014678e-03,  4.90871780e-02,\n",
       "          -8.10834393e-02,  8.06553513e-02,  6.65333271e-02,\n",
       "          -2.13893447e-02,  2.42687855e-03,  2.19321009e-02,\n",
       "          -2.79408116e-02,  2.10438278e-02, -4.81545143e-02,\n",
       "          -3.12899053e-02,  1.22730345e-01],\n",
       "         [-1.23341590e-01,  1.05185382e-01,  3.51672620e-02,\n",
       "          -1.28814071e-01, -4.02852818e-02,  4.10368815e-02,\n",
       "          -6.15692139e-02, -7.16416612e-02, -6.44473284e-02,\n",
       "           8.80722478e-02, -3.08725126e-02, -1.42992139e-01,\n",
       "          -5.80332056e-02, -9.56911594e-02,  1.02751002e-01,\n",
       "          -1.09587476e-01,  2.59605125e-02, -9.79547203e-02,\n",
       "          -3.94228473e-02,  1.00165308e-01, -4.68071513e-02,\n",
       "           1.03951856e-01, -1.20239422e-01, -1.17618993e-01,\n",
       "          -9.72238481e-02, -1.11705661e-01, -1.36568137e-02,\n",
       "           9.21819285e-02, -7.31147379e-02, -5.42615056e-02,\n",
       "          -1.79946329e-02,  1.21347427e-01]]]], dtype=float32)"
      ]
     },
     "execution_count": 27,
     "metadata": {},
     "output_type": "execute_result"
    }
   ],
   "source": [
    "# weights\n",
    "np.array(model_file['model_weights']['conv2d']['conv2d']['kernel:0'])"
   ]
  },
  {
   "cell_type": "code",
   "execution_count": null,
   "metadata": {},
   "outputs": [],
   "source": []
  }
 ],
 "metadata": {
  "kernelspec": {
   "display_name": "Python 3",
   "language": "python",
   "name": "python3"
  },
  "language_info": {
   "codemirror_mode": {
    "name": "ipython",
    "version": 3
   },
   "file_extension": ".py",
   "mimetype": "text/x-python",
   "name": "python",
   "nbconvert_exporter": "python",
   "pygments_lexer": "ipython3",
   "version": "3.8.3"
  }
 },
 "nbformat": 4,
 "nbformat_minor": 2
}
