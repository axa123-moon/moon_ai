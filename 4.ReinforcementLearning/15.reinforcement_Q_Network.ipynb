{
 "cells": [
  {
   "cell_type": "code",
   "execution_count": 1,
   "metadata": {},
   "outputs": [
    {
     "name": "stdout",
     "output_type": "stream",
     "text": [
      "WARNING:tensorflow:From C:\\ProgramData\\Anaconda3\\lib\\site-packages\\tensorflow\\python\\compat\\v2_compat.py:96: disable_resource_variables (from tensorflow.python.ops.variable_scope) is deprecated and will be removed in a future version.\n",
      "Instructions for updating:\n",
      "non-resource variables are not supported in the long term\n"
     ]
    }
   ],
   "source": [
    "# This code is based on\n",
    "# https://github.com/hunkim/DeepRL-Agents\n",
    "\n",
    "import gym\n",
    "from gym.envs.registration import register\n",
    "import numpy as np\n",
    "import matplotlib.pyplot as plt\n",
    "import time\n",
    "import os\n",
    "\n",
    "# From http://stackoverflow.com/questions/35911252/disable-tensorflow-debugging-information\n",
    "# default value = 0  \n",
    "os.environ['TF_CPP_MIN_LOG_LEVEL'] = '3'   \n",
    "\n",
    "# import tensorflow as tf\n",
    "\n",
    "# 예전 소스 실행을 위한 설정\n",
    "import tensorflow.compat.v1 as tf\n",
    "tf.disable_v2_behavior()"
   ]
  },
  {
   "cell_type": "code",
   "execution_count": 2,
   "metadata": {},
   "outputs": [],
   "source": [
    "# 정상적인 경우를 확인하기 위해서는 is_slippery를 False로 하고 확인해야 함\n",
    "# 즉 지시하는 방향으로 정상적으로 움직임\n",
    "# is_slippery를 True일 경우 정상적으로 움직이지 않음\n",
    "\n",
    "# is_slippery가 False이면 않미끄러짐, True이면 미끄러짐\n",
    "register(\n",
    "    id='FrozenLake-v3',\n",
    "    entry_point='gym.envs.toy_text:FrozenLakeEnv',\n",
    "    kwargs={'map_name' : '4x4', 'is_slippery': True}\n",
    ")\n",
    "\n",
    "env = gym.make('FrozenLake-v3')\n",
    "\n",
    "# Input and output size based on the Env\n",
    "input_size = env.observation_space.n;\n",
    "output_size = env.action_space.n;\n",
    "learning_rate = 0.1\n",
    "\n",
    "# Set Q-learning parameters\n",
    "dis = .99\n",
    "num_episodes = 2000\n",
    "\n",
    "\n",
    "def one_hot(x):\n",
    "    return np.identity(16)[x:x+1]"
   ]
  },
  {
   "cell_type": "code",
   "execution_count": 3,
   "metadata": {},
   "outputs": [
    {
     "name": "stdout",
     "output_type": "stream",
     "text": [
      "--- 71.2758059501648 seconds ---\n",
      "Success rate: 0.524\n"
     ]
    },
    {
     "data": {
      "image/png": "[encoded data removed]",
      "text/plain": [
       "<Figure size 432x288 with 1 Axes>"
      ]
     },
     "metadata": {
      "needs_background": "light"
     },
     "output_type": "display_data"
    }
   ],
   "source": [
    "# These lines establish the feed-forward part of the network used to choose actions\n",
    "# 1 x 16\n",
    "X = tf.placeholder(shape=[1, input_size], dtype=tf.float32)              # state input\n",
    "\n",
    "# 16 x 4\n",
    "W = tf.Variable(tf.random_uniform([input_size, output_size], 0, 0.01))   # weight\n",
    "\n",
    "# Out Q prediction  vector(1 x 16) x matrix(16 x 4) = vector(1 x 4)\n",
    "# Qpred는 수식\n",
    "Qpred = tf.matmul(X, W)\n",
    "\n",
    "# 1 x 4\n",
    "Y = tf.placeholder(shape=[1, output_size], dtype=tf.float32)    # Y label\n",
    "\n",
    "# loss는 수식\n",
    "loss = tf.reduce_sum(tf.square(Y-Qpred))\n",
    "\n",
    "# train은 수식\n",
    "train = tf.train.GradientDescentOptimizer(learning_rate=learning_rate).minimize(loss)\n",
    "\n",
    "# create lists to contain total rewards and steps per episode\n",
    "rList = []\n",
    "\n",
    "start_time = time.time()\n",
    "\n",
    "init = tf.global_variables_initializer()\n",
    "with tf.Session() as sess:\n",
    "    sess.run(init)\n",
    "    for i in range(num_episodes):\n",
    "        # Reset environment and get first new observation\n",
    "        # s는 맵상에서 현재 위치\n",
    "        s = env.reset()\n",
    "        \n",
    "        #현재 위치 확인        \n",
    "        #env.render()\n",
    "        \n",
    "        e = 1. / ((i / 50) + 10)\n",
    "        rAll = 0\n",
    "        done = False\n",
    "        local_loss = []\n",
    "\n",
    "        # The Q-Table learning algorithm\n",
    "        while not done:\n",
    "            # Choose an action by greedly (with a chance of random action)\n",
    "            # from the Q-network \n",
    "            # Qs는 vector(1 x 4)\n",
    "            Qs = sess.run(Qpred, feed_dict={X: one_hot(s)})\n",
    "            \n",
    "            #print('s => ', s)\n",
    "            #print('one_hot(s) => ', one_hot(s))\n",
    "            #print('Qs => ', Qs)\n",
    "            \n",
    "            if np.random.rand(1) < e:\n",
    "                a = env.action_space.sample()\n",
    "            else:\n",
    "                a = np.argmax(Qs)\n",
    "\n",
    "            # 최적의 경로를 찾기 위해서 np.argmax(Qs) 사용\n",
    "            #a = np.argmax(Qs)\n",
    "            #print('a => ', a)    \n",
    "            \n",
    "            # Get new state and reward from environment\n",
    "            s1, reward, done, _ = env.step(a)\n",
    "            \n",
    "            #현재 위치 확인\n",
    "            #env.render()\n",
    "\n",
    "            if done:\n",
    "                # Update Q, and no Qs+1, since it's a termial state\n",
    "                Qs[0, a] = reward\n",
    "            else:\n",
    "                # Obtain the Q_s` values by feeding the new state through our network\n",
    "                Qs1 = sess.run(Qpred, feed_dict={X: one_hot(s1)})\n",
    "                \n",
    "                # Update Q, Qs는 정답(label)\n",
    "                Qs[0, a] = reward + dis*np.max(Qs1)\n",
    "\n",
    "            #print('----------------------------------- ')    \n",
    "            # Train our network using target (Y) and predicted Q (Qpred) values\n",
    "            sess.run(train, feed_dict={X: one_hot(s), Y: Qs})\n",
    "\n",
    "            rAll += reward\n",
    "            s = s1\n",
    "        rList.append(rAll)\n",
    "        #print('------------------------------------------------------------------ ')    \n",
    "\n",
    "print(\"--- %s seconds ---\" % (time.time() - start_time))\n",
    "\n",
    "print(\"Success rate: \" + str(sum(rList) / num_episodes))\n",
    "#plt.bar(range(len(rList)), rList, color=\"blue\")\n",
    "plt.bar(range(len(rList)), rList, color='b', alpha=0.4)\n",
    "plt.show()"
   ]
  },
  {
   "cell_type": "code",
   "execution_count": null,
   "metadata": {},
   "outputs": [],
   "source": []
  }
 ],
 "metadata": {
  "kernelspec": {
   "display_name": "Python 3",
   "language": "python",
   "name": "python3"
  },
  "language_info": {
   "codemirror_mode": {
    "name": "ipython",
    "version": 3
   },
   "file_extension": ".py",
   "mimetype": "text/x-python",
   "name": "python",
   "nbconvert_exporter": "python",
   "pygments_lexer": "ipython3",
   "version": "3.8.3"
  }
 },
 "nbformat": 4,
 "nbformat_minor": 4
}
